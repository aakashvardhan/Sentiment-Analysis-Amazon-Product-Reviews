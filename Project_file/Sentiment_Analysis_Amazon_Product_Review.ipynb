{
  "nbformat": 4,
  "nbformat_minor": 0,
  "metadata": {
    "accelerator": "GPU",
    "colab": {
      "name": "CS481_project.ipynb",
      "provenance": [],
      "collapsed_sections": [],
      "machine_shape": "hm"
    },
    "kernelspec": {
      "display_name": "Python 3",
      "language": "python",
      "name": "python3"
    },
    "language_info": {
      "codemirror_mode": {
        "name": "ipython",
        "version": 3
      },
      "file_extension": ".py",
      "mimetype": "text/x-python",
      "name": "python",
      "nbconvert_exporter": "python",
      "pygments_lexer": "ipython3",
      "version": "3.8.5"
    }
  },
  "cells": [
    {
      "cell_type": "markdown",
      "metadata": {
        "id": "RlZyjiSLmREK"
      },
      "source": [
        "# Sentiment Analysis of Amazon Product Reviews\n",
        "\n",
        "By Aakash Madabhushi"
      ]
    },
    {
      "cell_type": "code",
      "metadata": {
        "id": "uwzi6Xe4BXsr"
      },
      "source": [
        "import os\n",
        "os.environ['KMP_DUPLICATE_LIB_OK']='True'"
      ],
      "execution_count": 1,
      "outputs": []
    },
    {
      "cell_type": "markdown",
      "metadata": {
        "id": "TTdnJ_eYmgVN"
      },
      "source": [
        "### Mount Google Drive"
      ]
    },
    {
      "cell_type": "code",
      "metadata": {
        "colab": {
          "base_uri": "https://localhost:8080/"
        },
        "id": "szemVoiIBmzl",
        "outputId": "780550bf-a22e-4c96-943f-478b1ff42a13"
      },
      "source": [
        "from google.colab import drive\n",
        "drive.mount('/content/drive')"
      ],
      "execution_count": 2,
      "outputs": [
        {
          "output_type": "stream",
          "text": [
            "Mounted at /content/drive\n"
          ],
          "name": "stdout"
        }
      ]
    },
    {
      "cell_type": "code",
      "metadata": {
        "colab": {
          "base_uri": "https://localhost:8080/"
        },
        "id": "vK9iQN4vBbdn",
        "outputId": "5c25771d-6a1b-4352-ce6b-bb1f5f4d84c3"
      },
      "source": [
        "pip install rake_nltk"
      ],
      "execution_count": 3,
      "outputs": [
        {
          "output_type": "stream",
          "text": [
            "Collecting rake_nltk\n",
            "  Downloading https://files.pythonhosted.org/packages/8e/c4/b4ff57e541ac5624ad4b20b89c2bafd4e98f29fd83139f3a81858bdb3815/rake_nltk-1.0.4.tar.gz\n",
            "Requirement already satisfied: nltk in /usr/local/lib/python3.7/dist-packages (from rake_nltk) (3.2.5)\n",
            "Requirement already satisfied: six in /usr/local/lib/python3.7/dist-packages (from nltk->rake_nltk) (1.15.0)\n",
            "Building wheels for collected packages: rake-nltk\n",
            "  Building wheel for rake-nltk (setup.py) ... \u001b[?25l\u001b[?25hdone\n",
            "  Created wheel for rake-nltk: filename=rake_nltk-1.0.4-py2.py3-none-any.whl size=7819 sha256=c3730a6c311f7c6fefc50efd6549bb0713e00a62274f1c94dca4f69fedfaef7c\n",
            "  Stored in directory: /root/.cache/pip/wheels/ef/92/fc/271b3709e71a96ffe934b27818946b795ac6b9b8ff8682483f\n",
            "Successfully built rake-nltk\n",
            "Installing collected packages: rake-nltk\n",
            "Successfully installed rake-nltk-1.0.4\n"
          ],
          "name": "stdout"
        }
      ]
    },
    {
      "cell_type": "markdown",
      "metadata": {
        "id": "U00PwACemB_m"
      },
      "source": [
        "### Importing the Relevant Packages"
      ]
    },
    {
      "cell_type": "code",
      "metadata": {
        "colab": {
          "base_uri": "https://localhost:8080/"
        },
        "id": "q8IPNTWznHtG",
        "outputId": "04ec3023-47d5-4d73-b9ff-3d200d614423"
      },
      "source": [
        "import nltk\n",
        "import pandas as pd\n",
        "import string\n",
        "from nltk.tokenize import word_tokenize\n",
        "from nltk import pos_tag\n",
        "from nltk.corpus import stopwords\n",
        "from nltk.stem.snowball import SnowballStemmer\n",
        "import tensorflow as tf\n",
        "from nltk.stem import WordNetLemmatizer\n",
        "from sklearn.model_selection import train_test_split\n",
        "# from tf.keras.utils import to_categorical\n",
        "from sklearn import model_selection\n",
        "from sklearn.base import BaseEstimator, TransformerMixin\n",
        "import re\n",
        "from sklearn.metrics import classification_report, confusion_matrix, accuracy_score\n",
        "from sklearn import metrics\n",
        "from nltk.corpus import stopwords\n",
        "from sklearn.preprocessing import LabelEncoder,OneHotEncoder\n",
        "from nltk.corpus import wordnet as wn\n",
        "from nltk.tokenize import RegexpTokenizer\n",
        "from bs4 import BeautifulSoup\n",
        "import gzip\n",
        "import rake_nltk as rn\n",
        "nltk.download('stopwords')\n",
        "import numpy as np\n",
        "set(stopwords.words('english'))\n",
        "nltk.download('wordnet')"
      ],
      "execution_count": 4,
      "outputs": [
        {
          "output_type": "stream",
          "text": [
            "[nltk_data] Downloading package stopwords to /root/nltk_data...\n",
            "[nltk_data]   Package stopwords is already up-to-date!\n",
            "[nltk_data] Downloading package wordnet to /root/nltk_data...\n",
            "[nltk_data]   Unzipping corpora/wordnet.zip.\n"
          ],
          "name": "stdout"
        },
        {
          "output_type": "execute_result",
          "data": {
            "text/plain": [
              "True"
            ]
          },
          "metadata": {
            "tags": []
          },
          "execution_count": 4
        }
      ]
    },
    {
      "cell_type": "markdown",
      "metadata": {
        "id": "p0ejnNN5mHDN"
      },
      "source": [
        "### Loading and Exploring the Dataset"
      ]
    },
    {
      "cell_type": "code",
      "metadata": {
        "id": "fMuFpJXqWbV9"
      },
      "source": [
        "with tf.device('/device:GPU:0'):\n",
        "    read_musical = pd.read_json('/content/drive/MyDrive/CS 481 - Natural Language Understanding/Project/Musical_Instruments.json',lines=True)\n",
        "    read_digital_music = pd.read_json('/content/drive/MyDrive/CS 481 - Natural Language Understanding/Project/Digital_Music.json',lines=True)\n",
        "    read_video_games = pd.read_json('/content/drive/MyDrive/CS 481 - Natural Language Understanding/Project/Video_Games.json',lines=True)\n"
      ],
      "execution_count": 5,
      "outputs": []
    },
    {
      "cell_type": "code",
      "metadata": {
        "id": "7UonjWcsac01"
      },
      "source": [
        "read_review = pd.concat([read_musical,read_digital_music,read_video_games])"
      ],
      "execution_count": 6,
      "outputs": []
    },
    {
      "cell_type": "code",
      "metadata": {
        "colab": {
          "base_uri": "https://localhost:8080/",
          "height": 425
        },
        "id": "_gCLvQZgtfiw",
        "outputId": "087fb5c7-bfcb-4f82-8d7c-fd85edd52c41"
      },
      "source": [
        "#Viewing the Dataframe\n",
        "read_review.head()"
      ],
      "execution_count": 7,
      "outputs": [
        {
          "output_type": "execute_result",
          "data": {
            "text/html": [
              "<div>\n",
              "<style scoped>\n",
              "    .dataframe tbody tr th:only-of-type {\n",
              "        vertical-align: middle;\n",
              "    }\n",
              "\n",
              "    .dataframe tbody tr th {\n",
              "        vertical-align: top;\n",
              "    }\n",
              "\n",
              "    .dataframe thead th {\n",
              "        text-align: right;\n",
              "    }\n",
              "</style>\n",
              "<table border=\"1\" class=\"dataframe\">\n",
              "  <thead>\n",
              "    <tr style=\"text-align: right;\">\n",
              "      <th></th>\n",
              "      <th>overall</th>\n",
              "      <th>vote</th>\n",
              "      <th>verified</th>\n",
              "      <th>reviewTime</th>\n",
              "      <th>reviewerID</th>\n",
              "      <th>asin</th>\n",
              "      <th>style</th>\n",
              "      <th>reviewerName</th>\n",
              "      <th>reviewText</th>\n",
              "      <th>summary</th>\n",
              "      <th>unixReviewTime</th>\n",
              "      <th>image</th>\n",
              "    </tr>\n",
              "  </thead>\n",
              "  <tbody>\n",
              "    <tr>\n",
              "      <th>0</th>\n",
              "      <td>5</td>\n",
              "      <td>90</td>\n",
              "      <td>False</td>\n",
              "      <td>08 9, 2004</td>\n",
              "      <td>AXHY24HWOF184</td>\n",
              "      <td>0470536454</td>\n",
              "      <td>{'Format:': ' Paperback'}</td>\n",
              "      <td>Bendy</td>\n",
              "      <td>Crocheting for Dummies by Karen Manthey &amp; Susa...</td>\n",
              "      <td>Terrific Book for Learning the Art of Crochet</td>\n",
              "      <td>1092009600</td>\n",
              "      <td>NaN</td>\n",
              "    </tr>\n",
              "    <tr>\n",
              "      <th>1</th>\n",
              "      <td>4</td>\n",
              "      <td>2</td>\n",
              "      <td>True</td>\n",
              "      <td>04 6, 2017</td>\n",
              "      <td>A29OWR79AM796H</td>\n",
              "      <td>0470536454</td>\n",
              "      <td>{'Format:': ' Hardcover'}</td>\n",
              "      <td>Amazon Customer</td>\n",
              "      <td>Very helpful...</td>\n",
              "      <td>Four Stars</td>\n",
              "      <td>1491436800</td>\n",
              "      <td>NaN</td>\n",
              "    </tr>\n",
              "    <tr>\n",
              "      <th>2</th>\n",
              "      <td>5</td>\n",
              "      <td>NaN</td>\n",
              "      <td>True</td>\n",
              "      <td>03 14, 2017</td>\n",
              "      <td>AUPWU27A7X5F6</td>\n",
              "      <td>0470536454</td>\n",
              "      <td>{'Format:': ' Paperback'}</td>\n",
              "      <td>Amazon Customer</td>\n",
              "      <td>EASY TO UNDERSTAND AND A PROMPT SERVICE TOO</td>\n",
              "      <td>Five Stars</td>\n",
              "      <td>1489449600</td>\n",
              "      <td>NaN</td>\n",
              "    </tr>\n",
              "    <tr>\n",
              "      <th>3</th>\n",
              "      <td>4</td>\n",
              "      <td>NaN</td>\n",
              "      <td>True</td>\n",
              "      <td>02 14, 2017</td>\n",
              "      <td>A1N69A47D4JO6K</td>\n",
              "      <td>0470536454</td>\n",
              "      <td>{'Format:': ' Paperback'}</td>\n",
              "      <td>Christopher Burnett</td>\n",
              "      <td>My girlfriend use quite often</td>\n",
              "      <td>Four Stars</td>\n",
              "      <td>1487030400</td>\n",
              "      <td>NaN</td>\n",
              "    </tr>\n",
              "    <tr>\n",
              "      <th>4</th>\n",
              "      <td>5</td>\n",
              "      <td>NaN</td>\n",
              "      <td>True</td>\n",
              "      <td>01 29, 2017</td>\n",
              "      <td>AHTIQUMVCGBFJ</td>\n",
              "      <td>0470536454</td>\n",
              "      <td>{'Format:': ' Paperback'}</td>\n",
              "      <td>Amazon Customer</td>\n",
              "      <td>Arrived as described. Very happy.</td>\n",
              "      <td>Very happy.</td>\n",
              "      <td>1485648000</td>\n",
              "      <td>NaN</td>\n",
              "    </tr>\n",
              "  </tbody>\n",
              "</table>\n",
              "</div>"
            ],
            "text/plain": [
              "   overall vote  ...  unixReviewTime image\n",
              "0        5   90  ...      1092009600   NaN\n",
              "1        4    2  ...      1491436800   NaN\n",
              "2        5  NaN  ...      1489449600   NaN\n",
              "3        4  NaN  ...      1487030400   NaN\n",
              "4        5  NaN  ...      1485648000   NaN\n",
              "\n",
              "[5 rows x 12 columns]"
            ]
          },
          "metadata": {
            "tags": []
          },
          "execution_count": 7
        }
      ]
    },
    {
      "cell_type": "code",
      "metadata": {
        "colab": {
          "base_uri": "https://localhost:8080/"
        },
        "id": "aN599C1mBXst",
        "outputId": "106c6807-cb1e-40ed-eb1d-768c68ae9ea7"
      },
      "source": [
        "read_review.shape"
      ],
      "execution_count": 8,
      "outputs": [
        {
          "output_type": "execute_result",
          "data": {
            "text/plain": [
              "(5661961, 12)"
            ]
          },
          "metadata": {
            "tags": []
          },
          "execution_count": 8
        }
      ]
    },
    {
      "cell_type": "code",
      "metadata": {
        "colab": {
          "base_uri": "https://localhost:8080/"
        },
        "id": "R1wr5qJ6BXst",
        "outputId": "a16c3d40-7352-44f8-a1fe-3b21f9974abe"
      },
      "source": [
        "# check empty cells\n",
        "read_review.isnull().sum()"
      ],
      "execution_count": 9,
      "outputs": [
        {
          "output_type": "execute_result",
          "data": {
            "text/plain": [
              "overall                 0\n",
              "vote              4850575\n",
              "verified                0\n",
              "reviewTime              0\n",
              "reviewerID              0\n",
              "asin                    0\n",
              "style             2358637\n",
              "reviewerName          484\n",
              "reviewText           4023\n",
              "summary              1726\n",
              "unixReviewTime          0\n",
              "image             5596900\n",
              "dtype: int64"
            ]
          },
          "metadata": {
            "tags": []
          },
          "execution_count": 9
        }
      ]
    },
    {
      "cell_type": "code",
      "metadata": {
        "id": "ujB0kVR3BXst"
      },
      "source": [
        "read_review = read_review[['overall','reviewText']]"
      ],
      "execution_count": 10,
      "outputs": []
    },
    {
      "cell_type": "code",
      "metadata": {
        "id": "aQ4OKomoBXst"
      },
      "source": [
        "read_review = read_review.reset_index()"
      ],
      "execution_count": 11,
      "outputs": []
    },
    {
      "cell_type": "code",
      "metadata": {
        "colab": {
          "base_uri": "https://localhost:8080/"
        },
        "id": "lfu9O3i0BXst",
        "outputId": "00430a7c-21b2-4df2-ce38-9504660fd916"
      },
      "source": [
        "read_review.shape"
      ],
      "execution_count": 12,
      "outputs": [
        {
          "output_type": "execute_result",
          "data": {
            "text/plain": [
              "(5661961, 3)"
            ]
          },
          "metadata": {
            "tags": []
          },
          "execution_count": 12
        }
      ]
    },
    {
      "cell_type": "code",
      "metadata": {
        "colab": {
          "base_uri": "https://localhost:8080/",
          "height": 198
        },
        "id": "5DERj3ycBXsu",
        "outputId": "ab52240a-9512-413c-ce30-0d3146c9e10f"
      },
      "source": [
        "read_review.head()"
      ],
      "execution_count": 13,
      "outputs": [
        {
          "output_type": "execute_result",
          "data": {
            "text/html": [
              "<div>\n",
              "<style scoped>\n",
              "    .dataframe tbody tr th:only-of-type {\n",
              "        vertical-align: middle;\n",
              "    }\n",
              "\n",
              "    .dataframe tbody tr th {\n",
              "        vertical-align: top;\n",
              "    }\n",
              "\n",
              "    .dataframe thead th {\n",
              "        text-align: right;\n",
              "    }\n",
              "</style>\n",
              "<table border=\"1\" class=\"dataframe\">\n",
              "  <thead>\n",
              "    <tr style=\"text-align: right;\">\n",
              "      <th></th>\n",
              "      <th>index</th>\n",
              "      <th>overall</th>\n",
              "      <th>reviewText</th>\n",
              "    </tr>\n",
              "  </thead>\n",
              "  <tbody>\n",
              "    <tr>\n",
              "      <th>0</th>\n",
              "      <td>0</td>\n",
              "      <td>5</td>\n",
              "      <td>Crocheting for Dummies by Karen Manthey &amp; Susa...</td>\n",
              "    </tr>\n",
              "    <tr>\n",
              "      <th>1</th>\n",
              "      <td>1</td>\n",
              "      <td>4</td>\n",
              "      <td>Very helpful...</td>\n",
              "    </tr>\n",
              "    <tr>\n",
              "      <th>2</th>\n",
              "      <td>2</td>\n",
              "      <td>5</td>\n",
              "      <td>EASY TO UNDERSTAND AND A PROMPT SERVICE TOO</td>\n",
              "    </tr>\n",
              "    <tr>\n",
              "      <th>3</th>\n",
              "      <td>3</td>\n",
              "      <td>4</td>\n",
              "      <td>My girlfriend use quite often</td>\n",
              "    </tr>\n",
              "    <tr>\n",
              "      <th>4</th>\n",
              "      <td>4</td>\n",
              "      <td>5</td>\n",
              "      <td>Arrived as described. Very happy.</td>\n",
              "    </tr>\n",
              "  </tbody>\n",
              "</table>\n",
              "</div>"
            ],
            "text/plain": [
              "   index  overall                                         reviewText\n",
              "0      0        5  Crocheting for Dummies by Karen Manthey & Susa...\n",
              "1      1        4                                    Very helpful...\n",
              "2      2        5        EASY TO UNDERSTAND AND A PROMPT SERVICE TOO\n",
              "3      3        4                      My girlfriend use quite often\n",
              "4      4        5                  Arrived as described. Very happy."
            ]
          },
          "metadata": {
            "tags": []
          },
          "execution_count": 13
        }
      ]
    },
    {
      "cell_type": "code",
      "metadata": {
        "colab": {
          "base_uri": "https://localhost:8080/"
        },
        "id": "Eq0PLj5gBXsu",
        "outputId": "13797587-e5a1-4434-9f9a-43576a3d04ab"
      },
      "source": [
        "read_review.isnull().sum()"
      ],
      "execution_count": 14,
      "outputs": [
        {
          "output_type": "execute_result",
          "data": {
            "text/plain": [
              "index            0\n",
              "overall          0\n",
              "reviewText    4023\n",
              "dtype: int64"
            ]
          },
          "metadata": {
            "tags": []
          },
          "execution_count": 14
        }
      ]
    },
    {
      "cell_type": "code",
      "metadata": {
        "id": "bUUGDBg5BXsu"
      },
      "source": [
        "read_review = read_review.dropna()"
      ],
      "execution_count": 15,
      "outputs": []
    },
    {
      "cell_type": "code",
      "metadata": {
        "id": "jGrWwQxsBXsu"
      },
      "source": [
        "read_review.overall=read_review.overall.astype(int)"
      ],
      "execution_count": 16,
      "outputs": []
    },
    {
      "cell_type": "code",
      "metadata": {
        "id": "qbaNZqbLvIhW"
      },
      "source": [
        "#Gets rid of the rows with an overall rating of 3.0 since it is a neutral value \n",
        "read_review = read_review[read_review['overall'] !=3]"
      ],
      "execution_count": 17,
      "outputs": []
    },
    {
      "cell_type": "code",
      "metadata": {
        "id": "Lff9fSqDwGR0"
      },
      "source": [
        "#Encodes binary value(1 for positive sentiment(4.0-5.0) and 0 for negative sentiment(1.0-2.0))\n",
        "def sentiment(n):\n",
        "  return 1 if n >=4 else 0"
      ],
      "execution_count": 18,
      "outputs": []
    },
    {
      "cell_type": "code",
      "metadata": {
        "id": "tDqWpI1KyxJo"
      },
      "source": [
        "read_review['sentiment'] = read_review['overall'].apply(sentiment)"
      ],
      "execution_count": 19,
      "outputs": []
    },
    {
      "cell_type": "code",
      "metadata": {
        "colab": {
          "base_uri": "https://localhost:8080/",
          "height": 198
        },
        "id": "jStb1bf0zrht",
        "outputId": "a6dc9c75-45f9-470e-9e4e-7f3b6513193a"
      },
      "source": [
        "read_review[read_review['overall'] == 1].head()"
      ],
      "execution_count": 20,
      "outputs": [
        {
          "output_type": "execute_result",
          "data": {
            "text/html": [
              "<div>\n",
              "<style scoped>\n",
              "    .dataframe tbody tr th:only-of-type {\n",
              "        vertical-align: middle;\n",
              "    }\n",
              "\n",
              "    .dataframe tbody tr th {\n",
              "        vertical-align: top;\n",
              "    }\n",
              "\n",
              "    .dataframe thead th {\n",
              "        text-align: right;\n",
              "    }\n",
              "</style>\n",
              "<table border=\"1\" class=\"dataframe\">\n",
              "  <thead>\n",
              "    <tr style=\"text-align: right;\">\n",
              "      <th></th>\n",
              "      <th>index</th>\n",
              "      <th>overall</th>\n",
              "      <th>reviewText</th>\n",
              "      <th>sentiment</th>\n",
              "    </tr>\n",
              "  </thead>\n",
              "  <tbody>\n",
              "    <tr>\n",
              "      <th>100</th>\n",
              "      <td>100</td>\n",
              "      <td>1</td>\n",
              "      <td>Save yourself the oftalmologist's visit and bu...</td>\n",
              "      <td>0</td>\n",
              "    </tr>\n",
              "    <tr>\n",
              "      <th>160</th>\n",
              "      <td>160</td>\n",
              "      <td>1</td>\n",
              "      <td>This book was not what I thought, there should...</td>\n",
              "      <td>0</td>\n",
              "    </tr>\n",
              "    <tr>\n",
              "      <th>163</th>\n",
              "      <td>163</td>\n",
              "      <td>1</td>\n",
              "      <td>I was looking for  basic beginner help and bet...</td>\n",
              "      <td>0</td>\n",
              "    </tr>\n",
              "    <tr>\n",
              "      <th>206</th>\n",
              "      <td>206</td>\n",
              "      <td>1</td>\n",
              "      <td>The illustrations are too confusing for someon...</td>\n",
              "      <td>0</td>\n",
              "    </tr>\n",
              "    <tr>\n",
              "      <th>213</th>\n",
              "      <td>213</td>\n",
              "      <td>1</td>\n",
              "      <td>&lt;a data-hook=\"product-link-linked\" class=\"a-li...</td>\n",
              "      <td>0</td>\n",
              "    </tr>\n",
              "  </tbody>\n",
              "</table>\n",
              "</div>"
            ],
            "text/plain": [
              "     index  ...  sentiment\n",
              "100    100  ...          0\n",
              "160    160  ...          0\n",
              "163    163  ...          0\n",
              "206    206  ...          0\n",
              "213    213  ...          0\n",
              "\n",
              "[5 rows x 4 columns]"
            ]
          },
          "metadata": {
            "tags": []
          },
          "execution_count": 20
        }
      ]
    },
    {
      "cell_type": "code",
      "metadata": {
        "colab": {
          "base_uri": "https://localhost:8080/",
          "height": 198
        },
        "id": "I9mYEC6VztZd",
        "outputId": "62534ec4-7737-4502-fec1-e41fe85aff61"
      },
      "source": [
        "read_review.head()"
      ],
      "execution_count": 21,
      "outputs": [
        {
          "output_type": "execute_result",
          "data": {
            "text/html": [
              "<div>\n",
              "<style scoped>\n",
              "    .dataframe tbody tr th:only-of-type {\n",
              "        vertical-align: middle;\n",
              "    }\n",
              "\n",
              "    .dataframe tbody tr th {\n",
              "        vertical-align: top;\n",
              "    }\n",
              "\n",
              "    .dataframe thead th {\n",
              "        text-align: right;\n",
              "    }\n",
              "</style>\n",
              "<table border=\"1\" class=\"dataframe\">\n",
              "  <thead>\n",
              "    <tr style=\"text-align: right;\">\n",
              "      <th></th>\n",
              "      <th>index</th>\n",
              "      <th>overall</th>\n",
              "      <th>reviewText</th>\n",
              "      <th>sentiment</th>\n",
              "    </tr>\n",
              "  </thead>\n",
              "  <tbody>\n",
              "    <tr>\n",
              "      <th>0</th>\n",
              "      <td>0</td>\n",
              "      <td>5</td>\n",
              "      <td>Crocheting for Dummies by Karen Manthey &amp; Susa...</td>\n",
              "      <td>1</td>\n",
              "    </tr>\n",
              "    <tr>\n",
              "      <th>1</th>\n",
              "      <td>1</td>\n",
              "      <td>4</td>\n",
              "      <td>Very helpful...</td>\n",
              "      <td>1</td>\n",
              "    </tr>\n",
              "    <tr>\n",
              "      <th>2</th>\n",
              "      <td>2</td>\n",
              "      <td>5</td>\n",
              "      <td>EASY TO UNDERSTAND AND A PROMPT SERVICE TOO</td>\n",
              "      <td>1</td>\n",
              "    </tr>\n",
              "    <tr>\n",
              "      <th>3</th>\n",
              "      <td>3</td>\n",
              "      <td>4</td>\n",
              "      <td>My girlfriend use quite often</td>\n",
              "      <td>1</td>\n",
              "    </tr>\n",
              "    <tr>\n",
              "      <th>4</th>\n",
              "      <td>4</td>\n",
              "      <td>5</td>\n",
              "      <td>Arrived as described. Very happy.</td>\n",
              "      <td>1</td>\n",
              "    </tr>\n",
              "  </tbody>\n",
              "</table>\n",
              "</div>"
            ],
            "text/plain": [
              "   index  overall                                         reviewText  sentiment\n",
              "0      0        5  Crocheting for Dummies by Karen Manthey & Susa...          1\n",
              "1      1        4                                    Very helpful...          1\n",
              "2      2        5        EASY TO UNDERSTAND AND A PROMPT SERVICE TOO          1\n",
              "3      3        4                      My girlfriend use quite often          1\n",
              "4      4        5                  Arrived as described. Very happy.          1"
            ]
          },
          "metadata": {
            "tags": []
          },
          "execution_count": 21
        }
      ]
    },
    {
      "cell_type": "code",
      "metadata": {
        "id": "_NiDQlMt0A7x"
      },
      "source": [
        "np.random.seed(100000)"
      ],
      "execution_count": 22,
      "outputs": []
    },
    {
      "cell_type": "code",
      "metadata": {
        "id": "8PQ7JQKvBXsv"
      },
      "source": [
        "read_review.reviewText=read_review.reviewText.astype(str)"
      ],
      "execution_count": 23,
      "outputs": []
    },
    {
      "cell_type": "markdown",
      "metadata": {
        "id": "ZUydnu9B1MnS"
      },
      "source": [
        "### Preprocessing"
      ]
    },
    {
      "cell_type": "code",
      "metadata": {
        "id": "UKL7HI4TLOdN"
      },
      "source": [
        "from tqdm import tqdm\n",
        "import re\n",
        "from bs4 import BeautifulSoup\n",
        "from nltk.stem import PorterStemmer\n",
        "\n",
        "def decontracted(phrase):\n",
        "    \"\"\"\n",
        "    We first define a function to expand the contracted phrase into normal words\n",
        "    \"\"\"\n",
        "    # specific\n",
        "    phrase = re.sub(r\"won't\", \"will not\", phrase)\n",
        "    phrase = re.sub(r\"can\\'t\", \"can not\", phrase)\n",
        "\n",
        "    # general\n",
        "    phrase = re.sub(r\"n\\'t\", \" not\", phrase)\n",
        "    phrase = re.sub(r\"\\'re\", \" are\", phrase)\n",
        "    phrase = re.sub(r\"\\'s\", \" is\", phrase) # prime \n",
        "    phrase = re.sub(r\"\\'d\", \" would\", phrase)\n",
        "    phrase = re.sub(r\"\\'ll\", \" will\", phrase)\n",
        "    phrase = re.sub(r\"\\'t\", \" not\", phrase)\n",
        "    phrase = re.sub(r\"\\'ve\", \" have\", phrase)\n",
        "    phrase = re.sub(r\"\\'m\", \" am\", phrase)\n",
        "    \n",
        "    return phrase\n",
        "\n",
        "def clean_text(df,flg_stemm=False, flg_lemm=True):\n",
        "    \"\"\"\n",
        "    Clean the review texts\n",
        "    \"\"\"\n",
        "    cleaned_review = []\n",
        "\n",
        "    for review_text in tqdm(df['reviewText']):\n",
        "        \n",
        "        # expand the contracted words\n",
        "        review_text = decontracted(review_text)\n",
        "        \n",
        "        #remove html tags\n",
        "        review_text = BeautifulSoup(review_text, 'lxml').get_text().strip() # re.sub(r'<.*?>', '', text)\n",
        "        \n",
        "        #remove non-alphabetic characters\n",
        "        review_text = re.sub(\"[^a-zA-Z]\",\" \", review_text)\n",
        "    \n",
        "        #remove url \n",
        "        review_text = re.sub(r'https?://\\S+|www\\.\\S+', '', review_text)\n",
        "        \n",
        "        #Removing punctutation, string.punctuation in python consists of !\"#$%&\\'()*+,-./:;<=>?@[\\\\]^_{|}~`\n",
        "        review_text = review_text.translate(str.maketrans('', '', string.punctuation))\n",
        "        # ''.join([char for char in movie_text_data if char not in string.punctuation])\n",
        "        \n",
        "        # remove emails\n",
        "        review_text = re.sub(r\"(^[a-zA-Z0-9_.+-]+@[a-zA-Z0-9-]+\\.[a-zA-Z0-9-.]+$)\", '', review_text)\n",
        "\n",
        "        # The Snowball Stemmer requires that you pass a language parameter\n",
        "        s_stemmer = SnowballStemmer(language='english')\n",
        "        review_text = s_stemmer.stem(review_text)\n",
        "    \n",
        "        cleaned_review.append(review_text)\n",
        "\n",
        "    return cleaned_review"
      ],
      "execution_count": 24,
      "outputs": []
    },
    {
      "cell_type": "code",
      "metadata": {
        "colab": {
          "base_uri": "https://localhost:8080/"
        },
        "id": "gguu00XREdP0",
        "outputId": "3ef364b4-a293-40a6-def3-d75266e45e2e"
      },
      "source": [
        "with tf.device('/device:GPU:0'):\n",
        "    read_review['cleanedText'] = clean_text(read_review)"
      ],
      "execution_count": 25,
      "outputs": [
        {
          "output_type": "stream",
          "text": [
            "  1%|          | 40264/5282079 [00:11<24:07, 3622.18it/s]/usr/local/lib/python3.7/dist-packages/bs4/__init__.py:336: UserWarning: \"https://www.amazon.com/dp/B003TN088Y/ref=cm_cr_ryp_prd_ttl_sol_43\" looks like a URL. Beautiful Soup is not an HTTP client. You should probably use an HTTP client like requests to get the document behind the URL, and feed that document to Beautiful Soup.\n",
            "  ' that document to Beautiful Soup.' % decoded_markup\n",
            "  1%|▏         | 75864/5282079 [00:21<22:20, 3883.16it/s]/usr/local/lib/python3.7/dist-packages/bs4/__init__.py:336: UserWarning: \"http://www.amazon.com/gp/product/B0002E1G5C?redirect=true&ref_=cm_cr_ryp_prd_ttl_sol_51\" looks like a URL. Beautiful Soup is not an HTTP client. You should probably use an HTTP client like requests to get the document behind the URL, and feed that document to Beautiful Soup.\n",
            "  ' that document to Beautiful Soup.' % decoded_markup\n",
            "  4%|▎         | 192923/5282079 [00:54<23:05, 3672.88it/s]/usr/local/lib/python3.7/dist-packages/bs4/__init__.py:336: UserWarning: \"https://www.amazon.com/gp/product/B0007XTOCA/ref=cm_cr_ryp_prd_ttl_sol_25\" looks like a URL. Beautiful Soup is not an HTTP client. You should probably use an HTTP client like requests to get the document behind the URL, and feed that document to Beautiful Soup.\n",
            "  ' that document to Beautiful Soup.' % decoded_markup\n",
            "  5%|▍         | 242742/5282079 [01:08<26:47, 3135.26it/s]/usr/local/lib/python3.7/dist-packages/bs4/__init__.py:336: UserWarning: \"http://www.amazon.com/gp/product/B000G13JR4?redirect=true&ref_=cm_cr_ryp_prd_ttl_sol_0\" looks like a URL. Beautiful Soup is not an HTTP client. You should probably use an HTTP client like requests to get the document behind the URL, and feed that document to Beautiful Soup.\n",
            "  ' that document to Beautiful Soup.' % decoded_markup\n",
            "  7%|▋         | 391355/5282079 [01:53<25:45, 3163.63it/s]/usr/local/lib/python3.7/dist-packages/bs4/__init__.py:336: UserWarning: \"https://www.amazon.com/dp/B001LU39F6/ref=cm_cr_ryp_prd_ttl_sol_2\" looks like a URL. Beautiful Soup is not an HTTP client. You should probably use an HTTP client like requests to get the document behind the URL, and feed that document to Beautiful Soup.\n",
            "  ' that document to Beautiful Soup.' % decoded_markup\n",
            "  7%|▋         | 393430/5282079 [01:53<25:02, 3253.69it/s]/usr/local/lib/python3.7/dist-packages/bs4/__init__.py:336: UserWarning: \"https://www.amazon.com/gp/product/B001MXG49U/ref=cm_cr_ryp_prd_ttl_sol_10\" looks like a URL. Beautiful Soup is not an HTTP client. You should probably use an HTTP client like requests to get the document behind the URL, and feed that document to Beautiful Soup.\n",
            "  ' that document to Beautiful Soup.' % decoded_markup\n",
            "  8%|▊         | 413350/5282079 [01:59<25:03, 3237.93it/s]/usr/local/lib/python3.7/dist-packages/bs4/__init__.py:336: UserWarning: \"http://www.amazon.com/gp/product/B001XJBWXG?redirect=true&ref_=cm_cr_ryp_prd_ttl_sol_49\" looks like a URL. Beautiful Soup is not an HTTP client. You should probably use an HTTP client like requests to get the document behind the URL, and feed that document to Beautiful Soup.\n",
            "  ' that document to Beautiful Soup.' % decoded_markup\n",
            "  9%|▉         | 492002/5282079 [02:24<28:37, 2789.61it/s]/usr/local/lib/python3.7/dist-packages/bs4/__init__.py:336: UserWarning: \"https://www.amazon.com/gp/product/B004XJNIWG/ref=cm_cr_ryp_prd_ttl_sol_11\" looks like a URL. Beautiful Soup is not an HTTP client. You should probably use an HTTP client like requests to get the document behind the URL, and feed that document to Beautiful Soup.\n",
            "  ' that document to Beautiful Soup.' % decoded_markup\n",
            " 11%|█         | 582553/5282079 [02:51<23:08, 3384.77it/s]/usr/local/lib/python3.7/dist-packages/bs4/__init__.py:336: UserWarning: \"https://www.amazon.com/dp/B007EV6PGG/ref=cm_cr_ryp_prd_ttl_sol_1\" looks like a URL. Beautiful Soup is not an HTTP client. You should probably use an HTTP client like requests to get the document behind the URL, and feed that document to Beautiful Soup.\n",
            "  ' that document to Beautiful Soup.' % decoded_markup\n",
            " 11%|█         | 587739/5282079 [02:52<24:38, 3174.68it/s]/usr/local/lib/python3.7/dist-packages/bs4/__init__.py:336: UserWarning: \"http://www.amazon.com/gp/product/B007QB57WM?redirect=true&ref_=cm_cr_ryp_prd_ttl_sol_0\" looks like a URL. Beautiful Soup is not an HTTP client. You should probably use an HTTP client like requests to get the document behind the URL, and feed that document to Beautiful Soup.\n",
            "  ' that document to Beautiful Soup.' % decoded_markup\n",
            " 11%|█▏        | 598600/5282079 [02:55<22:38, 3448.49it/s]/usr/local/lib/python3.7/dist-packages/bs4/__init__.py:336: UserWarning: \"https://www.amazon.com/dp/B00923H7MA/ref=cm_cr_ryp_prd_ttl_sol_0\" looks like a URL. Beautiful Soup is not an HTTP client. You should probably use an HTTP client like requests to get the document behind the URL, and feed that document to Beautiful Soup.\n",
            "  ' that document to Beautiful Soup.' % decoded_markup\n",
            " 11%|█▏        | 602217/5282079 [02:57<24:27, 3188.06it/s]/usr/local/lib/python3.7/dist-packages/bs4/__init__.py:336: UserWarning: \"https://www.amazon.com/dp/B0095D5BF2/ref=cm_cr_ryp_prd_ttl_sol_0\" looks like a URL. Beautiful Soup is not an HTTP client. You should probably use an HTTP client like requests to get the document behind the URL, and feed that document to Beautiful Soup.\n",
            "  ' that document to Beautiful Soup.' % decoded_markup\n",
            " 12%|█▏        | 609689/5282079 [02:59<22:54, 3400.47it/s]/usr/local/lib/python3.7/dist-packages/bs4/__init__.py:336: UserWarning: \"https://www.amazon.com/dp/B009MBT68U/ref=cm_cr_ryp_prd_ttl_sol_14\" looks like a URL. Beautiful Soup is not an HTTP client. You should probably use an HTTP client like requests to get the document behind the URL, and feed that document to Beautiful Soup.\n",
            "  ' that document to Beautiful Soup.' % decoded_markup\n",
            " 12%|█▏        | 610427/5282079 [02:59<21:58, 3543.99it/s]/usr/local/lib/python3.7/dist-packages/bs4/__init__.py:336: UserWarning: \"https://www.amazon.com/gp/product/B009PC1NO6/ref=cm_cr_ryp_prd_ttl_sol_23\" looks like a URL. Beautiful Soup is not an HTTP client. You should probably use an HTTP client like requests to get the document behind the URL, and feed that document to Beautiful Soup.\n",
            "  ' that document to Beautiful Soup.' % decoded_markup\n",
            " 12%|█▏        | 649898/5282079 [03:10<22:23, 3448.18it/s]/usr/local/lib/python3.7/dist-packages/bs4/__init__.py:336: UserWarning: \"https://images-na.ssl-images-amazon.com/images/I/41tpfdBjadL._SS300_.jpg\" looks like a URL. Beautiful Soup is not an HTTP client. You should probably use an HTTP client like requests to get the document behind the URL, and feed that document to Beautiful Soup.\n",
            "  ' that document to Beautiful Soup.' % decoded_markup\n",
            " 13%|█▎        | 663264/5282079 [03:14<23:37, 3259.25it/s]/usr/local/lib/python3.7/dist-packages/bs4/__init__.py:336: UserWarning: \"https://www.amazon.com/dp/B00WTUBHXS/ref=cm_cr_ryp_prd_ttl_sol_1\" looks like a URL. Beautiful Soup is not an HTTP client. You should probably use an HTTP client like requests to get the document behind the URL, and feed that document to Beautiful Soup.\n",
            "  ' that document to Beautiful Soup.' % decoded_markup\n",
            " 13%|█▎        | 668764/5282079 [03:16<20:59, 3664.08it/s]/usr/local/lib/python3.7/dist-packages/bs4/__init__.py:273: UserWarning: \"b'.'\" looks like a filename, not markup. You should probably open this file and pass the filehandle into Beautiful Soup.\n",
            "  ' Beautiful Soup.' % markup)\n",
            " 13%|█▎        | 671962/5282079 [03:17<21:57, 3498.97it/s]/usr/local/lib/python3.7/dist-packages/bs4/__init__.py:336: UserWarning: \"https://www.amazon.com/dp/B00DY1F2CS/ref=cm_cr_ryp_prd_ttl_sol_0\" looks like a URL. Beautiful Soup is not an HTTP client. You should probably use an HTTP client like requests to get the document behind the URL, and feed that document to Beautiful Soup.\n",
            "  ' that document to Beautiful Soup.' % decoded_markup\n",
            " 13%|█▎        | 688519/5282079 [03:22<23:54, 3201.51it/s]/usr/local/lib/python3.7/dist-packages/bs4/__init__.py:336: UserWarning: \"https://www.amazon.com/gp/product/B00F9DQXSG/ref=cm_cr_ryp_prd_ttl_sol_6\" looks like a URL. Beautiful Soup is not an HTTP client. You should probably use an HTTP client like requests to get the document behind the URL, and feed that document to Beautiful Soup.\n",
            "  ' that document to Beautiful Soup.' % decoded_markup\n",
            " 14%|█▍        | 733820/5282079 [03:35<21:56, 3454.43it/s]/usr/local/lib/python3.7/dist-packages/bs4/__init__.py:336: UserWarning: \"https://www.amazon.com/dp/B003VWJ2K8/ref=cm_cr_ryp_prd_ttl_sol_3\" looks like a URL. Beautiful Soup is not an HTTP client. You should probably use an HTTP client like requests to get the document behind the URL, and feed that document to Beautiful Soup.\n",
            "  ' that document to Beautiful Soup.' % decoded_markup\n",
            " 14%|█▍        | 757469/5282079 [03:42<21:08, 3565.96it/s]/usr/local/lib/python3.7/dist-packages/bs4/__init__.py:336: UserWarning: \"http://www.amazon.com/gp/product/B00JYFAWH8?redirect=true&ref_=cm_cr_ryp_prd_ttl_sol_0\" looks like a URL. Beautiful Soup is not an HTTP client. You should probably use an HTTP client like requests to get the document behind the URL, and feed that document to Beautiful Soup.\n",
            "  ' that document to Beautiful Soup.' % decoded_markup\n",
            " 14%|█▍        | 763025/5282079 [03:43<20:21, 3699.10it/s]/usr/local/lib/python3.7/dist-packages/bs4/__init__.py:336: UserWarning: \"https://www.amazon.com/dp/B00KAPGLQC/ref=cm_cr_ryp_prd_ttl_sol_3\" looks like a URL. Beautiful Soup is not an HTTP client. You should probably use an HTTP client like requests to get the document behind the URL, and feed that document to Beautiful Soup.\n",
            "  ' that document to Beautiful Soup.' % decoded_markup\n",
            " 15%|█▍        | 782114/5282079 [03:49<21:35, 3474.11it/s]/usr/local/lib/python3.7/dist-packages/bs4/__init__.py:336: UserWarning: \"https://www.amazon.com/dp/B00LBKFYUO/ref=cm_cr_ryp_prd_ttl_sol_1\" looks like a URL. Beautiful Soup is not an HTTP client. You should probably use an HTTP client like requests to get the document behind the URL, and feed that document to Beautiful Soup.\n",
            "  ' that document to Beautiful Soup.' % decoded_markup\n",
            " 15%|█▍        | 789767/5282079 [03:51<22:46, 3287.66it/s]/usr/local/lib/python3.7/dist-packages/bs4/__init__.py:336: UserWarning: \"https://www.amazon.com/dp/B01M6DAC8V\" looks like a URL. Beautiful Soup is not an HTTP client. You should probably use an HTTP client like requests to get the document behind the URL, and feed that document to Beautiful Soup.\n",
            "  ' that document to Beautiful Soup.' % decoded_markup\n",
            " 15%|█▌        | 801111/5282079 [03:54<21:19, 3502.77it/s]/usr/local/lib/python3.7/dist-packages/bs4/__init__.py:336: UserWarning: \"https://www.youtube.com/watch?v=klkQ_LrdnVQ&list=UUFrufV61J95f1ylwEWyMwLQ\" looks like a URL. Beautiful Soup is not an HTTP client. You should probably use an HTTP client like requests to get the document behind the URL, and feed that document to Beautiful Soup.\n",
            "  ' that document to Beautiful Soup.' % decoded_markup\n",
            " 16%|█▌        | 834163/5282079 [04:04<20:14, 3663.44it/s]/usr/local/lib/python3.7/dist-packages/bs4/__init__.py:336: UserWarning: \"https://www.amazon.com/dp/B00RCO415C/ref=cm_cr_ryp_prd_ttl_sol_14\" looks like a URL. Beautiful Soup is not an HTTP client. You should probably use an HTTP client like requests to get the document behind the URL, and feed that document to Beautiful Soup.\n",
            "  ' that document to Beautiful Soup.' % decoded_markup\n",
            " 16%|█▋        | 860235/5282079 [04:11<21:52, 3367.93it/s]/usr/local/lib/python3.7/dist-packages/bs4/__init__.py:336: UserWarning: \"https://www.amazon.com/dp/B00VIFM5PY/ref=cm_cr_ryp_prd_ttl_sol_1\" looks like a URL. Beautiful Soup is not an HTTP client. You should probably use an HTTP client like requests to get the document behind the URL, and feed that document to Beautiful Soup.\n",
            "  ' that document to Beautiful Soup.' % decoded_markup\n",
            " 17%|█▋        | 882984/5282079 [04:17<19:27, 3767.27it/s]/usr/local/lib/python3.7/dist-packages/bs4/__init__.py:336: UserWarning: \"https://www.amazon.com/dp/B00Y4S5Z5O/ref=cm_cr_ryp_prd_ttl_sol_46\" looks like a URL. Beautiful Soup is not an HTTP client. You should probably use an HTTP client like requests to get the document behind the URL, and feed that document to Beautiful Soup.\n",
            "  ' that document to Beautiful Soup.' % decoded_markup\n",
            " 17%|█▋        | 895417/5282079 [04:21<20:52, 3501.61it/s]/usr/local/lib/python3.7/dist-packages/bs4/__init__.py:336: UserWarning: \"https://www.youtube.com/watch?v=cEtTmgK3Xvk\" looks like a URL. Beautiful Soup is not an HTTP client. You should probably use an HTTP client like requests to get the document behind the URL, and feed that document to Beautiful Soup.\n",
            "  ' that document to Beautiful Soup.' % decoded_markup\n",
            " 17%|█▋        | 917165/5282079 [04:27<19:39, 3700.86it/s]/usr/local/lib/python3.7/dist-packages/bs4/__init__.py:336: UserWarning: \"https://www.amazon.com/dp/B015SXNYXI/ref=twister_B016MAAXHG?_encoding=UTF8&psc=1\" looks like a URL. Beautiful Soup is not an HTTP client. You should probably use an HTTP client like requests to get the document behind the URL, and feed that document to Beautiful Soup.\n",
            "  ' that document to Beautiful Soup.' % decoded_markup\n",
            " 18%|█▊        | 976362/5282079 [04:44<19:39, 3650.73it/s]/usr/local/lib/python3.7/dist-packages/bs4/__init__.py:336: UserWarning: \"https://www.amazon.com/dp/B01EY1UDUW/ref=cm_cr_ryp_prd_ttl_sol_0\" looks like a URL. Beautiful Soup is not an HTTP client. You should probably use an HTTP client like requests to get the document behind the URL, and feed that document to Beautiful Soup.\n",
            "  ' that document to Beautiful Soup.' % decoded_markup\n",
            " 19%|█▊        | 980048/5282079 [04:45<20:01, 3580.80it/s]/usr/local/lib/python3.7/dist-packages/bs4/__init__.py:336: UserWarning: \"https://www.amazon.com/dp/B01F8BY2AO/ref=cm_cr_ryp_prd_ttl_sol_0\" looks like a URL. Beautiful Soup is not an HTTP client. You should probably use an HTTP client like requests to get the document behind the URL, and feed that document to Beautiful Soup.\n",
            "  ' that document to Beautiful Soup.' % decoded_markup\n",
            " 19%|█▊        | 982647/5282079 [04:46<19:32, 3668.25it/s]/usr/local/lib/python3.7/dist-packages/bs4/__init__.py:336: UserWarning: \"https://www.amazon.com/dp/B01FQB3DD8/ref=cm_cr_ryp_prd_ttl_sol_0\" looks like a URL. Beautiful Soup is not an HTTP client. You should probably use an HTTP client like requests to get the document behind the URL, and feed that document to Beautiful Soup.\n",
            "  ' that document to Beautiful Soup.' % decoded_markup\n",
            " 19%|█▉        | 1008116/5282079 [04:53<20:24, 3491.51it/s]/usr/local/lib/python3.7/dist-packages/bs4/__init__.py:336: UserWarning: \"https://www.amazon.com/dp/B0002E551S/ref=cm_cr_ryp_prd_ttl_sol_9\" looks like a URL. Beautiful Soup is not an HTTP client. You should probably use an HTTP client like requests to get the document behind the URL, and feed that document to Beautiful Soup.\n",
            "  ' that document to Beautiful Soup.' % decoded_markup\n",
            " 20%|█▉        | 1040086/5282079 [05:03<22:38, 3122.71it/s]/usr/local/lib/python3.7/dist-packages/bs4/__init__.py:336: UserWarning: \"https://www.amazon.com/dp/B000BKY8CU/ref=cm_cr_ryp_prd_ttl_sol_27\" looks like a URL. Beautiful Soup is not an HTTP client. You should probably use an HTTP client like requests to get the document behind the URL, and feed that document to Beautiful Soup.\n",
            "  ' that document to Beautiful Soup.' % decoded_markup\n",
            " 21%|██        | 1100238/5282079 [05:22<21:28, 3245.24it/s]/usr/local/lib/python3.7/dist-packages/bs4/__init__.py:336: UserWarning: \"https://www.amazon.com/gp/product/B001MZW546/ref=cm_cr_ryp_prd_ttl_sol_8\" looks like a URL. Beautiful Soup is not an HTTP client. You should probably use an HTTP client like requests to get the document behind the URL, and feed that document to Beautiful Soup.\n",
            "  ' that document to Beautiful Soup.' % decoded_markup\n",
            " 21%|██        | 1105153/5282079 [05:23<21:33, 3228.87it/s]/usr/local/lib/python3.7/dist-packages/bs4/__init__.py:336: UserWarning: \"http://youtu.be/jfYnqVtlRKU\" looks like a URL. Beautiful Soup is not an HTTP client. You should probably use an HTTP client like requests to get the document behind the URL, and feed that document to Beautiful Soup.\n",
            "  ' that document to Beautiful Soup.' % decoded_markup\n",
            " 22%|██▏       | 1149970/5282079 [05:37<21:02, 3272.84it/s]/usr/local/lib/python3.7/dist-packages/bs4/__init__.py:336: UserWarning: \"https://www.amazon.com/dp/B004QM8YRE/ref=cm_cr_ryp_prd_ttl_sol_35\" looks like a URL. Beautiful Soup is not an HTTP client. You should probably use an HTTP client like requests to get the document behind the URL, and feed that document to Beautiful Soup.\n",
            "  ' that document to Beautiful Soup.' % decoded_markup\n",
            " 23%|██▎       | 1208319/5282079 [05:55<20:42, 3279.29it/s]/usr/local/lib/python3.7/dist-packages/bs4/__init__.py:336: UserWarning: \"https://www.amazon.com/dp/B0097BY3JC/ref=cm_cr_ryp_prd_ttl_sol_2\" looks like a URL. Beautiful Soup is not an HTTP client. You should probably use an HTTP client like requests to get the document behind the URL, and feed that document to Beautiful Soup.\n",
            "  ' that document to Beautiful Soup.' % decoded_markup\n",
            " 23%|██▎       | 1213194/5282079 [05:57<19:59, 3392.31it/s]/usr/local/lib/python3.7/dist-packages/bs4/__init__.py:336: UserWarning: \"https://www.amazon.com/dp/B009YT5ZZS/ref=cm_cr_ryp_prd_ttl_sol_41\" looks like a URL. Beautiful Soup is not an HTTP client. You should probably use an HTTP client like requests to get the document behind the URL, and feed that document to Beautiful Soup.\n",
            "  ' that document to Beautiful Soup.' % decoded_markup\n",
            " 25%|██▍       | 1295612/5282079 [06:21<18:32, 3581.76it/s]/usr/local/lib/python3.7/dist-packages/bs4/__init__.py:336: UserWarning: \"https://www.amazon.com/dp/B00L4D6VGY/ref=cm_cr_ryp_prd_ttl_sol_3\" looks like a URL. Beautiful Soup is not an HTTP client. You should probably use an HTTP client like requests to get the document behind the URL, and feed that document to Beautiful Soup.\n",
            "  ' that document to Beautiful Soup.' % decoded_markup\n",
            " 26%|██▌       | 1374822/5282079 [06:44<18:17, 3561.05it/s]/usr/local/lib/python3.7/dist-packages/bs4/__init__.py:336: UserWarning: \"https://www.amazon.com/gp/product/B0192VWA46/ref=cm_cr_ryp_prd_ttl_sol_2\" looks like a URL. Beautiful Soup is not an HTTP client. You should probably use an HTTP client like requests to get the document behind the URL, and feed that document to Beautiful Soup.\n",
            "  ' that document to Beautiful Soup.' % decoded_markup\n",
            " 26%|██▋       | 1390445/5282079 [06:48<18:43, 3463.37it/s]/usr/local/lib/python3.7/dist-packages/bs4/__init__.py:336: UserWarning: \"https://www.amazon.com/dp/B01D911E1K/ref=cm_cr_ryp_prd_ttl_sol_0\" looks like a URL. Beautiful Soup is not an HTTP client. You should probably use an HTTP client like requests to get the document behind the URL, and feed that document to Beautiful Soup.\n",
            "  ' that document to Beautiful Soup.' % decoded_markup\n",
            " 27%|██▋       | 1414968/5282079 [06:56<19:15, 3345.88it/s]/usr/local/lib/python3.7/dist-packages/bs4/__init__.py:336: UserWarning: \"https://www.amazon.com/dp/B000S56380/ref=cm_cr_ryp_prd_ttl_sol_3\" looks like a URL. Beautiful Soup is not an HTTP client. You should probably use an HTTP client like requests to get the document behind the URL, and feed that document to Beautiful Soup.\n",
            "  ' that document to Beautiful Soup.' % decoded_markup\n",
            " 27%|██▋       | 1422534/5282079 [06:58<17:43, 3630.78it/s]/usr/local/lib/python3.7/dist-packages/bs4/__init__.py:336: UserWarning: \"https://images-na.ssl-images-amazon.com/images/I/51La9PeReWL._SS300_.jpg\" looks like a URL. Beautiful Soup is not an HTTP client. You should probably use an HTTP client like requests to get the document behind the URL, and feed that document to Beautiful Soup.\n",
            "  ' that document to Beautiful Soup.' % decoded_markup\n",
            " 27%|██▋       | 1430163/5282079 [07:00<19:24, 3306.99it/s]/usr/local/lib/python3.7/dist-packages/bs4/__init__.py:336: UserWarning: \"https://images-na.ssl-images-amazon.com/images/I/51wjby27m9L._SS300_.jpg\" looks like a URL. Beautiful Soup is not an HTTP client. You should probably use an HTTP client like requests to get the document behind the URL, and feed that document to Beautiful Soup.\n",
            "  ' that document to Beautiful Soup.' % decoded_markup\n",
            " 27%|██▋       | 1448057/5282079 [07:05<20:51, 3064.64it/s]/usr/local/lib/python3.7/dist-packages/bs4/__init__.py:336: UserWarning: \"https://images-na.ssl-images-amazon.com/images/I/51UDXLxnxGL._SS300_.jpg\" looks like a URL. Beautiful Soup is not an HTTP client. You should probably use an HTTP client like requests to get the document behind the URL, and feed that document to Beautiful Soup.\n",
            "  ' that document to Beautiful Soup.' % decoded_markup\n",
            " 27%|██▋       | 1448781/5282079 [07:06<19:11, 3328.34it/s]/usr/local/lib/python3.7/dist-packages/bs4/__init__.py:336: UserWarning: \"https://images-na.ssl-images-amazon.com/images/I/61f15LjfP-L._SS300_.jpg\" looks like a URL. Beautiful Soup is not an HTTP client. You should probably use an HTTP client like requests to get the document behind the URL, and feed that document to Beautiful Soup.\n",
            "  ' that document to Beautiful Soup.' % decoded_markup\n",
            " 28%|██▊       | 1453847/5282079 [07:07<18:11, 3508.71it/s]/usr/local/lib/python3.7/dist-packages/bs4/__init__.py:336: UserWarning: \"https://images-na.ssl-images-amazon.com/images/I/51Sqij0rQEL._SS300_.jpg\" looks like a URL. Beautiful Soup is not an HTTP client. You should probably use an HTTP client like requests to get the document behind the URL, and feed that document to Beautiful Soup.\n",
            "  ' that document to Beautiful Soup.' % decoded_markup\n",
            " 28%|██▊       | 1464867/5282079 [07:10<17:41, 3595.75it/s]/usr/local/lib/python3.7/dist-packages/bs4/__init__.py:336: UserWarning: \"https://images-na.ssl-images-amazon.com/images/I/51QbW0UuGaL._SS300_.jpg\" looks like a URL. Beautiful Soup is not an HTTP client. You should probably use an HTTP client like requests to get the document behind the URL, and feed that document to Beautiful Soup.\n",
            "  ' that document to Beautiful Soup.' % decoded_markup\n",
            " 28%|██▊       | 1466369/5282079 [07:11<17:03, 3727.21it/s]/usr/local/lib/python3.7/dist-packages/bs4/__init__.py:336: UserWarning: \"https://images-na.ssl-images-amazon.com/images/I/51lZ2kekP1L._SS300_.jpg\" looks like a URL. Beautiful Soup is not an HTTP client. You should probably use an HTTP client like requests to get the document behind the URL, and feed that document to Beautiful Soup.\n",
            "  ' that document to Beautiful Soup.' % decoded_markup\n",
            " 28%|██▊       | 1474820/5282079 [07:13<16:44, 3789.37it/s]/usr/local/lib/python3.7/dist-packages/bs4/__init__.py:336: UserWarning: \"https://images-na.ssl-images-amazon.com/images/I/61zQLGPEG1L._SS300_.jpg\" looks like a URL. Beautiful Soup is not an HTTP client. You should probably use an HTTP client like requests to get the document behind the URL, and feed that document to Beautiful Soup.\n",
            "  ' that document to Beautiful Soup.' % decoded_markup\n",
            " 28%|██▊       | 1475200/5282079 [07:13<17:07, 3704.97it/s]/usr/local/lib/python3.7/dist-packages/bs4/__init__.py:336: UserWarning: \"https://images-na.ssl-images-amazon.com/images/I/61yzcSre8yL._SS300_.jpg\" looks like a URL. Beautiful Soup is not an HTTP client. You should probably use an HTTP client like requests to get the document behind the URL, and feed that document to Beautiful Soup.\n",
            "  ' that document to Beautiful Soup.' % decoded_markup\n",
            " 28%|██▊       | 1476716/5282079 [07:13<17:05, 3712.53it/s]/usr/local/lib/python3.7/dist-packages/bs4/__init__.py:336: UserWarning: \"https://images-na.ssl-images-amazon.com/images/I/61eAe7zZ1NL._SS300_.jpg\" looks like a URL. Beautiful Soup is not an HTTP client. You should probably use an HTTP client like requests to get the document behind the URL, and feed that document to Beautiful Soup.\n",
            "  ' that document to Beautiful Soup.' % decoded_markup\n",
            " 30%|██▉       | 1570074/5282079 [07:40<18:24, 3361.42it/s]/usr/local/lib/python3.7/dist-packages/bs4/__init__.py:336: UserWarning: \"https://images-na.ssl-images-amazon.com/images/I/51FlWRt3HpL._SS300_.jpg\" looks like a URL. Beautiful Soup is not an HTTP client. You should probably use an HTTP client like requests to get the document behind the URL, and feed that document to Beautiful Soup.\n",
            "  ' that document to Beautiful Soup.' % decoded_markup\n",
            " 32%|███▏      | 1690667/5282079 [08:16<17:50, 3354.64it/s]/usr/local/lib/python3.7/dist-packages/bs4/__init__.py:336: UserWarning: \"https://images-na.ssl-images-amazon.com/images/I/41A8nmNyPTL._SS300_.jpg\" looks like a URL. Beautiful Soup is not an HTTP client. You should probably use an HTTP client like requests to get the document behind the URL, and feed that document to Beautiful Soup.\n",
            "  ' that document to Beautiful Soup.' % decoded_markup\n",
            " 33%|███▎      | 1721960/5282079 [08:25<16:11, 3663.37it/s]/usr/local/lib/python3.7/dist-packages/bs4/__init__.py:336: UserWarning: \"https://www.amazon.com/dp/B00GYK36ZG/ref=cm_cr_ryp_prd_ttl_sol_14\" looks like a URL. Beautiful Soup is not an HTTP client. You should probably use an HTTP client like requests to get the document behind the URL, and feed that document to Beautiful Soup.\n",
            "  ' that document to Beautiful Soup.' % decoded_markup\n",
            " 33%|███▎      | 1734351/5282079 [08:29<17:42, 3339.13it/s]/usr/local/lib/python3.7/dist-packages/bs4/__init__.py:336: UserWarning: \"https://www.amazon.com/Exposed-battle-addiction-sobering-recovery-ebook/dp/B01KS3PL7K/ref=as_sl_pc_tf_til?tag=fishmar-20&linkCode=w00&linkId=6b041b625ceaca619ef3a44c163c4c90&creativeASIN=B01KS3PL7K\" looks like a URL. Beautiful Soup is not an HTTP client. You should probably use an HTTP client like requests to get the document behind the URL, and feed that document to Beautiful Soup.\n",
            "  ' that document to Beautiful Soup.' % decoded_markup\n",
            " 33%|███▎      | 1735840/5282079 [08:29<17:07, 3451.21it/s]/usr/local/lib/python3.7/dist-packages/bs4/__init__.py:336: UserWarning: \"https://www.amazon.com/dp/B008SGW5CO/ref=cm_cr_ryp_prd_ttl_sol_15\" looks like a URL. Beautiful Soup is not an HTTP client. You should probably use an HTTP client like requests to get the document behind the URL, and feed that document to Beautiful Soup.\n",
            "  ' that document to Beautiful Soup.' % decoded_markup\n",
            " 34%|███▍      | 1794827/5282079 [08:46<15:55, 3650.67it/s]/usr/local/lib/python3.7/dist-packages/bs4/__init__.py:336: UserWarning: \"https://www.amazon.com/gp/product/B00IKS2BHY/ref=cm_cr_ryp_prd_ttl_sol_6\" looks like a URL. Beautiful Soup is not an HTTP client. You should probably use an HTTP client like requests to get the document behind the URL, and feed that document to Beautiful Soup.\n",
            "  ' that document to Beautiful Soup.' % decoded_markup\n",
            " 35%|███▍      | 1827056/5282079 [08:55<14:44, 3904.00it/s]/usr/local/lib/python3.7/dist-packages/bs4/__init__.py:336: UserWarning: \"http://www.broadstreetreview.com/music-opera/barbra-streisand-tony-bennett-lady-gaga\" looks like a URL. Beautiful Soup is not an HTTP client. You should probably use an HTTP client like requests to get the document behind the URL, and feed that document to Beautiful Soup.\n",
            "  ' that document to Beautiful Soup.' % decoded_markup\n",
            " 35%|███▌      | 1868031/5282079 [09:06<15:33, 3658.78it/s]/usr/local/lib/python3.7/dist-packages/bs4/__init__.py:336: UserWarning: \"https://www.youtube.com/watch?v=I63BzHotdv4\" looks like a URL. Beautiful Soup is not an HTTP client. You should probably use an HTTP client like requests to get the document behind the URL, and feed that document to Beautiful Soup.\n",
            "  ' that document to Beautiful Soup.' % decoded_markup\n",
            " 36%|███▌      | 1878085/5282079 [09:09<14:22, 3948.92it/s]/usr/local/lib/python3.7/dist-packages/bs4/__init__.py:336: UserWarning: \"http://ghostalbums.info/2015/03/19/empire-cast-original-soundtrack-from-season-1-of-empire/\" looks like a URL. Beautiful Soup is not an HTTP client. You should probably use an HTTP client like requests to get the document behind the URL, and feed that document to Beautiful Soup.\n",
            "  ' that document to Beautiful Soup.' % decoded_markup\n",
            " 36%|███▌      | 1894024/5282079 [09:13<14:41, 3843.53it/s]/usr/local/lib/python3.7/dist-packages/bs4/__init__.py:336: UserWarning: \"https://www.youtube.com/watch?v=unjjqXqqIeg\" looks like a URL. Beautiful Soup is not an HTTP client. You should probably use an HTTP client like requests to get the document behind the URL, and feed that document to Beautiful Soup.\n",
            "  ' that document to Beautiful Soup.' % decoded_markup\n",
            " 36%|███▌      | 1908233/5282079 [09:17<15:31, 3622.34it/s]/usr/local/lib/python3.7/dist-packages/bs4/__init__.py:336: UserWarning: \"https://irom.wordpress.com/2015/07/27/record-rack-suite-for-flute-and-jazz-piano-trio-and-ode-to-thinking/\" looks like a URL. Beautiful Soup is not an HTTP client. You should probably use an HTTP client like requests to get the document behind the URL, and feed that document to Beautiful Soup.\n",
            "  ' that document to Beautiful Soup.' % decoded_markup\n",
            " 36%|███▌      | 1914373/5282079 [09:18<15:39, 3585.35it/s]/usr/local/lib/python3.7/dist-packages/bs4/__init__.py:336: UserWarning: \"https://metalmucil.wordpress.com/2015/08/24/album-review-cattle-decapitation-the-anthropocene-extinction/\" looks like a URL. Beautiful Soup is not an HTTP client. You should probably use an HTTP client like requests to get the document behind the URL, and feed that document to Beautiful Soup.\n",
            "  ' that document to Beautiful Soup.' % decoded_markup\n",
            " 37%|███▋      | 1954273/5282079 [09:29<16:11, 3425.02it/s]/usr/local/lib/python3.7/dist-packages/bs4/__init__.py:336: UserWarning: \"https://www.amazon.com/gp/product/B01B41ZB70/ref=cm_cr_ryp_prd_ttl_sol_3\" looks like a URL. Beautiful Soup is not an HTTP client. You should probably use an HTTP client like requests to get the document behind the URL, and feed that document to Beautiful Soup.\n",
            "  ' that document to Beautiful Soup.' % decoded_markup\n",
            " 37%|███▋      | 1971429/5282079 [09:34<15:04, 3660.90it/s]/usr/local/lib/python3.7/dist-packages/bs4/__init__.py:336: UserWarning: \"https://smile.amazon.com/dp/B01EU0HIVO/ref=cm_cr_ryp_prd_ttl_sol_5\" looks like a URL. Beautiful Soup is not an HTTP client. You should probably use an HTTP client like requests to get the document behind the URL, and feed that document to Beautiful Soup.\n",
            "  ' that document to Beautiful Soup.' % decoded_markup\n",
            " 38%|███▊      | 2010512/5282079 [09:47<19:01, 2865.68it/s]/usr/local/lib/python3.7/dist-packages/bs4/__init__.py:336: UserWarning: \"https://www.amazon.com/dp/B000NL0HP4/ref=cm_cr_ryp_prd_ttl_sol_4\" looks like a URL. Beautiful Soup is not an HTTP client. You should probably use an HTTP client like requests to get the document behind the URL, and feed that document to Beautiful Soup.\n",
            "  ' that document to Beautiful Soup.' % decoded_markup\n",
            " 40%|███▉      | 2096090/5282079 [10:11<14:37, 3631.39it/s]/usr/local/lib/python3.7/dist-packages/bs4/__init__.py:336: UserWarning: \"https://www.amazon.com/dp/B000ZN0ZZC/ref=cm_cr_ryp_prd_ttl_sol_1\" looks like a URL. Beautiful Soup is not an HTTP client. You should probably use an HTTP client like requests to get the document behind the URL, and feed that document to Beautiful Soup.\n",
            "  ' that document to Beautiful Soup.' % decoded_markup\n",
            " 41%|████      | 2154120/5282079 [10:27<13:39, 3818.66it/s]/usr/local/lib/python3.7/dist-packages/bs4/__init__.py:336: UserWarning: \"https://images-na.ssl-images-amazon.com/images/I/61dZ7IV0RML._SS300_.jpg\" looks like a URL. Beautiful Soup is not an HTTP client. You should probably use an HTTP client like requests to get the document behind the URL, and feed that document to Beautiful Soup.\n",
            "  ' that document to Beautiful Soup.' % decoded_markup\n",
            " 41%|████      | 2164910/5282079 [10:30<13:26, 3863.41it/s]/usr/local/lib/python3.7/dist-packages/bs4/__init__.py:336: UserWarning: \"https://images-na.ssl-images-amazon.com/images/I/51Coz7CVwmL._SS300_.jpg\" looks like a URL. Beautiful Soup is not an HTTP client. You should probably use an HTTP client like requests to get the document behind the URL, and feed that document to Beautiful Soup.\n",
            "  ' that document to Beautiful Soup.' % decoded_markup\n",
            " 41%|████▏     | 2181350/5282079 [10:34<15:06, 3422.01it/s]/usr/local/lib/python3.7/dist-packages/bs4/__init__.py:336: UserWarning: \"https://www.amazon.com/dp/B0013TSP9U/ref=cm_cr_ryp_prd_ttl_sol_7\" looks like a URL. Beautiful Soup is not an HTTP client. You should probably use an HTTP client like requests to get the document behind the URL, and feed that document to Beautiful Soup.\n",
            "  ' that document to Beautiful Soup.' % decoded_markup\n",
            " 41%|████▏     | 2184595/5282079 [10:35<14:52, 3472.40it/s]/usr/local/lib/python3.7/dist-packages/bs4/__init__.py:336: UserWarning: \"https://www.amazon.com/dp/B00HL82CH8/ref=cm_cr_ryp_prd_ttl_sol_1\" looks like a URL. Beautiful Soup is not an HTTP client. You should probably use an HTTP client like requests to get the document behind the URL, and feed that document to Beautiful Soup.\n",
            "  ' that document to Beautiful Soup.' % decoded_markup\n",
            " 42%|████▏     | 2238410/5282079 [10:51<14:40, 3458.42it/s]/usr/local/lib/python3.7/dist-packages/bs4/__init__.py:336: UserWarning: \"https://www.amazon.com/dp/B001CBKWZO/ref=cm_cr_ryp_prd_ttl_sol_0\" looks like a URL. Beautiful Soup is not an HTTP client. You should probably use an HTTP client like requests to get the document behind the URL, and feed that document to Beautiful Soup.\n",
            "  ' that document to Beautiful Soup.' % decoded_markup\n",
            " 43%|████▎     | 2270023/5282079 [11:00<13:03, 3844.41it/s]/usr/local/lib/python3.7/dist-packages/bs4/__init__.py:336: UserWarning: \"https://images-na.ssl-images-amazon.com/images/I/51CeX2IT3aL._SS300_.jpg\" looks like a URL. Beautiful Soup is not an HTTP client. You should probably use an HTTP client like requests to get the document behind the URL, and feed that document to Beautiful Soup.\n",
            "  ' that document to Beautiful Soup.' % decoded_markup\n",
            " 43%|████▎     | 2284351/5282079 [11:04<14:21, 3478.70it/s]/usr/local/lib/python3.7/dist-packages/bs4/__init__.py:336: UserWarning: \"https://images-na.ssl-images-amazon.com/images/I/41djzdTqQzL._SS300_.jpg\" looks like a URL. Beautiful Soup is not an HTTP client. You should probably use an HTTP client like requests to get the document behind the URL, and feed that document to Beautiful Soup.\n",
            "  ' that document to Beautiful Soup.' % decoded_markup\n",
            " 44%|████▍     | 2310918/5282079 [11:11<14:30, 3411.35it/s]/usr/local/lib/python3.7/dist-packages/bs4/__init__.py:336: UserWarning: \"http://www.amazon.com/gp/product/B002KWIY40?redirect=true&ref_=cm_cr_ryp_prd_ttl_sol_0\" looks like a URL. Beautiful Soup is not an HTTP client. You should probably use an HTTP client like requests to get the document behind the URL, and feed that document to Beautiful Soup.\n",
            "  ' that document to Beautiful Soup.' % decoded_markup\n",
            " 45%|████▌     | 2377057/5282079 [11:31<14:47, 3271.63it/s]/usr/local/lib/python3.7/dist-packages/bs4/__init__.py:336: UserWarning: \"https://www.amazon.com/gp/product/B004K7BC5G/ref=cm_cr_ryp_prd_ttl_sol_5\" looks like a URL. Beautiful Soup is not an HTTP client. You should probably use an HTTP client like requests to get the document behind the URL, and feed that document to Beautiful Soup.\n",
            "  ' that document to Beautiful Soup.' % decoded_markup\n",
            " 46%|████▌     | 2410101/5282079 [11:41<14:06, 3393.49it/s]/usr/local/lib/python3.7/dist-packages/bs4/__init__.py:336: UserWarning: \"https://www.youtube.com/watch?v=VMaZUSzJ74o\" looks like a URL. Beautiful Soup is not an HTTP client. You should probably use an HTTP client like requests to get the document behind the URL, and feed that document to Beautiful Soup.\n",
            "  ' that document to Beautiful Soup.' % decoded_markup\n",
            " 47%|████▋     | 2458283/5282079 [11:56<14:02, 3352.15it/s]/usr/local/lib/python3.7/dist-packages/bs4/__init__.py:336: UserWarning: \"https://images-na.ssl-images-amazon.com/images/I/51ZFvtstvmL._SS300_.jpg\" looks like a URL. Beautiful Soup is not an HTTP client. You should probably use an HTTP client like requests to get the document behind the URL, and feed that document to Beautiful Soup.\n",
            "  ' that document to Beautiful Soup.' % decoded_markup\n",
            " 47%|████▋     | 2466704/5282079 [11:58<14:42, 3189.27it/s]/usr/local/lib/python3.7/dist-packages/bs4/__init__.py:336: UserWarning: \"http://www.amazon.com/gp/product/B006Z7NTIW?redirect=true&ref_=cm_cr_ryp_prd_ttl_sol_0\" looks like a URL. Beautiful Soup is not an HTTP client. You should probably use an HTTP client like requests to get the document behind the URL, and feed that document to Beautiful Soup.\n",
            "  ' that document to Beautiful Soup.' % decoded_markup\n",
            " 48%|████▊     | 2521291/5282079 [12:15<13:20, 3450.84it/s]/usr/local/lib/python3.7/dist-packages/bs4/__init__.py:336: UserWarning: \"https://www.amazon.com/dp/B009MFKQV2/ref=cm_cr_ryp_prd_ttl_sol_0\" looks like a URL. Beautiful Soup is not an HTTP client. You should probably use an HTTP client like requests to get the document behind the URL, and feed that document to Beautiful Soup.\n",
            "  ' that document to Beautiful Soup.' % decoded_markup\n",
            "/usr/local/lib/python3.7/dist-packages/bs4/__init__.py:336: UserWarning: \"https://www.amazon.com/dp/B009MKFWNE/ref=cm_cr_ryp_prd_ttl_sol_2\" looks like a URL. Beautiful Soup is not an HTTP client. You should probably use an HTTP client like requests to get the document behind the URL, and feed that document to Beautiful Soup.\n",
            "  ' that document to Beautiful Soup.' % decoded_markup\n",
            " 48%|████▊     | 2530996/5282079 [12:18<13:18, 3444.84it/s]/usr/local/lib/python3.7/dist-packages/bs4/__init__.py:336: UserWarning: \"https://images-na.ssl-images-amazon.com/images/I/51GaBidEg3L._SS300_.jpg\" looks like a URL. Beautiful Soup is not an HTTP client. You should probably use an HTTP client like requests to get the document behind the URL, and feed that document to Beautiful Soup.\n",
            "  ' that document to Beautiful Soup.' % decoded_markup\n",
            " 49%|████▊     | 2564432/5282079 [12:28<13:46, 3288.80it/s]/usr/local/lib/python3.7/dist-packages/bs4/__init__.py:336: UserWarning: \"http://www.youtube.com/watch?v=8X0LUJeQVaM\" looks like a URL. Beautiful Soup is not an HTTP client. You should probably use an HTTP client like requests to get the document behind the URL, and feed that document to Beautiful Soup.\n",
            "  ' that document to Beautiful Soup.' % decoded_markup\n",
            " 49%|████▊     | 2571617/5282079 [12:30<13:23, 3371.89it/s]/usr/local/lib/python3.7/dist-packages/bs4/__init__.py:336: UserWarning: \"https://smile.amazon.com/dp/B00C2GG658/ref=cm_cr_ryp_prd_ttl_sol_1\" looks like a URL. Beautiful Soup is not an HTTP client. You should probably use an HTTP client like requests to get the document behind the URL, and feed that document to Beautiful Soup.\n",
            "  ' that document to Beautiful Soup.' % decoded_markup\n",
            " 52%|█████▏    | 2737007/5282079 [13:17<11:10, 3794.53it/s]/usr/local/lib/python3.7/dist-packages/bs4/__init__.py:336: UserWarning: \"http://www.amazon.com/Pieces-Jade-Scott-LaFaro/dp/B002JIH8I8?ie=UTF8&redirect=true&ref_=cm_cr_ryp_prd_ttl_sol_0\" looks like a URL. Beautiful Soup is not an HTTP client. You should probably use an HTTP client like requests to get the document behind the URL, and feed that document to Beautiful Soup.\n",
            "  ' that document to Beautiful Soup.' % decoded_markup\n",
            " 52%|█████▏    | 2758410/5282079 [13:23<11:17, 3722.78it/s]/usr/local/lib/python3.7/dist-packages/bs4/__init__.py:336: UserWarning: \"https://www.amazon.com/Chewy-Lorrie-Ruiz/dp/B00O64H8MY/ref=sr_1_1?ie=UTF8&qid=1525540675&sr=8-1&keywords=lorrie+ruiz\" looks like a URL. Beautiful Soup is not an HTTP client. You should probably use an HTTP client like requests to get the document behind the URL, and feed that document to Beautiful Soup.\n",
            "  ' that document to Beautiful Soup.' % decoded_markup\n",
            " 53%|█████▎    | 2779545/5282079 [13:28<11:11, 3727.94it/s]/usr/local/lib/python3.7/dist-packages/bs4/__init__.py:336: UserWarning: \"https://www.amazon.com/gp/product/B00QR745SI/ref=cm_cr_ryp_prd_ttl_sol_0\" looks like a URL. Beautiful Soup is not an HTTP client. You should probably use an HTTP client like requests to get the document behind the URL, and feed that document to Beautiful Soup.\n",
            "  ' that document to Beautiful Soup.' % decoded_markup\n",
            " 53%|█████▎    | 2780674/5282079 [13:29<11:14, 3707.30it/s]/usr/local/lib/python3.7/dist-packages/bs4/__init__.py:336: UserWarning: \"http://djalexgutierrez.com/ecstacy-pete-lennys-miami-disco-history/\" looks like a URL. Beautiful Soup is not an HTTP client. You should probably use an HTTP client like requests to get the document behind the URL, and feed that document to Beautiful Soup.\n",
            "  ' that document to Beautiful Soup.' % decoded_markup\n",
            " 53%|█████▎    | 2796511/5282079 [13:33<11:28, 3612.07it/s]/usr/local/lib/python3.7/dist-packages/bs4/__init__.py:336: UserWarning: \"https://www.amazon.com/Wealthy-Places/dp/B00THRMZ1Y/ref=sr_1_1?ie=UTF8&qid=1496918513&sr=8-1&keywords=noella+wealthy+places\" looks like a URL. Beautiful Soup is not an HTTP client. You should probably use an HTTP client like requests to get the document behind the URL, and feed that document to Beautiful Soup.\n",
            "  ' that document to Beautiful Soup.' % decoded_markup\n",
            " 53%|█████▎    | 2800956/5282079 [13:34<11:11, 3692.42it/s]/usr/local/lib/python3.7/dist-packages/bs4/__init__.py:336: UserWarning: \"http://djalexgutierrez.com/show-some-love-first-ladies-of-disco/\" looks like a URL. Beautiful Soup is not an HTTP client. You should probably use an HTTP client like requests to get the document behind the URL, and feed that document to Beautiful Soup.\n",
            "  ' that document to Beautiful Soup.' % decoded_markup\n",
            " 53%|█████▎    | 2806369/5282079 [13:36<11:03, 3733.62it/s]/usr/local/lib/python3.7/dist-packages/bs4/__init__.py:336: UserWarning: \"https://www.amazon.com/gp/product/B00UKTY6WO/ref=cm_cr_ryp_prd_ttl_sol_5\" looks like a URL. Beautiful Soup is not an HTTP client. You should probably use an HTTP client like requests to get the document behind the URL, and feed that document to Beautiful Soup.\n",
            "  ' that document to Beautiful Soup.' % decoded_markup\n",
            " 53%|█████▎    | 2810583/5282079 [13:37<12:12, 3375.84it/s]/usr/local/lib/python3.7/dist-packages/bs4/__init__.py:336: UserWarning: \"https://www.youtube.com/watch?v=EZWhrUZYv8E\" looks like a URL. Beautiful Soup is not an HTTP client. You should probably use an HTTP client like requests to get the document behind the URL, and feed that document to Beautiful Soup.\n",
            "  ' that document to Beautiful Soup.' % decoded_markup\n",
            " 54%|█████▎    | 2833066/5282079 [13:44<10:56, 3730.88it/s]/usr/local/lib/python3.7/dist-packages/bs4/__init__.py:336: UserWarning: \"https://www.amazon.com/review/create-review?ie=UTF8&asin=B00ZQG2V9Q&channel=reviews-product&ref_=cm_cr_pr_wr_but_top#\" looks like a URL. Beautiful Soup is not an HTTP client. You should probably use an HTTP client like requests to get the document behind the URL, and feed that document to Beautiful Soup.\n",
            "  ' that document to Beautiful Soup.' % decoded_markup\n",
            " 54%|█████▎    | 2835275/5282079 [13:44<11:15, 3621.99it/s]/usr/local/lib/python3.7/dist-packages/bs4/__init__.py:336: UserWarning: \"https://www.facebook.com/PrayingForCassidy\" looks like a URL. Beautiful Soup is not an HTTP client. You should probably use an HTTP client like requests to get the document behind the URL, and feed that document to Beautiful Soup.\n",
            "  ' that document to Beautiful Soup.' % decoded_markup\n",
            " 54%|█████▍    | 2872521/5282079 [13:55<11:02, 3638.61it/s]/usr/local/lib/python3.7/dist-packages/bs4/__init__.py:336: UserWarning: \"https://www.amazon.com/dp/B01J51HNJK/ref=cm_cr_ryp_prd_ttl_sol_5\" looks like a URL. Beautiful Soup is not an HTTP client. You should probably use an HTTP client like requests to get the document behind the URL, and feed that document to Beautiful Soup.\n",
            "  ' that document to Beautiful Soup.' % decoded_markup\n",
            " 54%|█████▍    | 2878087/5282079 [13:56<11:05, 3610.78it/s]/usr/local/lib/python3.7/dist-packages/bs4/__init__.py:336: UserWarning: \"http://itunes.apple.com/album/id1058640776?ls=1&app=itunes\" looks like a URL. Beautiful Soup is not an HTTP client. You should probably use an HTTP client like requests to get the document behind the URL, and feed that document to Beautiful Soup.\n",
            "  ' that document to Beautiful Soup.' % decoded_markup\n",
            " 55%|█████▍    | 2885215/5282079 [13:58<10:27, 3817.40it/s]/usr/local/lib/python3.7/dist-packages/bs4/__init__.py:336: UserWarning: \"https://www.amazon.com/gp/product/B01979VQEI/ref=cm_cr_ryp_prd_ttl_sol_0\" looks like a URL. Beautiful Soup is not an HTTP client. You should probably use an HTTP client like requests to get the document behind the URL, and feed that document to Beautiful Soup.\n",
            "  ' that document to Beautiful Soup.' % decoded_markup\n",
            " 56%|█████▌    | 2962174/5282079 [14:22<13:55, 2777.11it/s]/usr/local/lib/python3.7/dist-packages/bs4/__init__.py:336: UserWarning: \"http://www.ebay.com/itm/Sega-Genesis-3-System-Console-Controller-Hookups-Bundled-/381287963634?pt=LH_DefaultDomain_0&hash=item58c6889bf2\" looks like a URL. Beautiful Soup is not an HTTP client. You should probably use an HTTP client like requests to get the document behind the URL, and feed that document to Beautiful Soup.\n",
            "  ' that document to Beautiful Soup.' % decoded_markup\n",
            " 60%|██████    | 3184826/5282079 [15:53<14:42, 2376.25it/s]/usr/local/lib/python3.7/dist-packages/bs4/__init__.py:336: UserWarning: \"https://apps.facebook.com/farmville-two/viral.php?viralId=a3fd978a6155b45af0d15373a2c95238_33312237247&fb_ref=Default\" looks like a URL. Beautiful Soup is not an HTTP client. You should probably use an HTTP client like requests to get the document behind the URL, and feed that document to Beautiful Soup.\n",
            "  ' that document to Beautiful Soup.' % decoded_markup\n",
            " 64%|██████▍   | 3391897/5282079 [17:10<12:44, 2473.61it/s]/usr/local/lib/python3.7/dist-packages/bs4/__init__.py:336: UserWarning: \"http://en.m.wikipedia.org/wiki/List_of_Wii_games_that_use_the_Nintendo_GameCube_controller\" looks like a URL. Beautiful Soup is not an HTTP client. You should probably use an HTTP client like requests to get the document behind the URL, and feed that document to Beautiful Soup.\n",
            "  ' that document to Beautiful Soup.' % decoded_markup\n",
            " 70%|███████   | 3723186/5282079 [19:10<08:25, 3086.38it/s]/usr/local/lib/python3.7/dist-packages/bs4/__init__.py:336: UserWarning: \"https://www.amazon.com/gp/product/B00QSWUYEQ/ref=oh_aui_detailpage_o00_s00?ie=UTF8&psc=1\" looks like a URL. Beautiful Soup is not an HTTP client. You should probably use an HTTP client like requests to get the document behind the URL, and feed that document to Beautiful Soup.\n",
            "  ' that document to Beautiful Soup.' % decoded_markup\n",
            " 71%|███████   | 3748383/5282079 [19:18<08:50, 2891.69it/s]/usr/local/lib/python3.7/dist-packages/bs4/__init__.py:336: UserWarning: \"https://www.amazon.com/gp/swvgdtt/your-account/manage-downloads.html\" looks like a URL. Beautiful Soup is not an HTTP client. You should probably use an HTTP client like requests to get the document behind the URL, and feed that document to Beautiful Soup.\n",
            "  ' that document to Beautiful Soup.' % decoded_markup\n",
            " 75%|███████▍  | 3942086/5282079 [20:24<07:58, 2798.07it/s]/usr/local/lib/python3.7/dist-packages/bs4/__init__.py:336: UserWarning: \"http://www.amazon.com/?force-full-site=1\" looks like a URL. Beautiful Soup is not an HTTP client. You should probably use an HTTP client like requests to get the document behind the URL, and feed that document to Beautiful Soup.\n",
            "  ' that document to Beautiful Soup.' % decoded_markup\n",
            " 75%|███████▌  | 3965057/5282079 [20:31<06:21, 3449.99it/s]/usr/local/lib/python3.7/dist-packages/bs4/__init__.py:336: UserWarning: \"http://www.amazon.com/gp/product/B00A72ZRFY?redirect=true&ref_=cm_cr_ryp_prd_ttl_sol_19\" looks like a URL. Beautiful Soup is not an HTTP client. You should probably use an HTTP client like requests to get the document behind the URL, and feed that document to Beautiful Soup.\n",
            "  ' that document to Beautiful Soup.' % decoded_markup\n",
            " 75%|███████▌  | 3976065/5282079 [20:35<07:06, 3063.81it/s]/usr/local/lib/python3.7/dist-packages/bs4/__init__.py:336: UserWarning: \"https://www.amazon.com/dp/B009DL2TBA/ref=cm_cr_ryp_prd_ttl_sol_14\" looks like a URL. Beautiful Soup is not an HTTP client. You should probably use an HTTP client like requests to get the document behind the URL, and feed that document to Beautiful Soup.\n",
            "  ' that document to Beautiful Soup.' % decoded_markup\n",
            " 76%|███████▋  | 4037484/5282079 [20:55<06:36, 3142.30it/s]/usr/local/lib/python3.7/dist-packages/bs4/__init__.py:336: UserWarning: \"http://youtu.be/1ODpCfD9uDg\" looks like a URL. Beautiful Soup is not an HTTP client. You should probably use an HTTP client like requests to get the document behind the URL, and feed that document to Beautiful Soup.\n",
            "  ' that document to Beautiful Soup.' % decoded_markup\n",
            " 77%|███████▋  | 4047877/5282079 [20:58<05:41, 3610.88it/s]/usr/local/lib/python3.7/dist-packages/bs4/__init__.py:336: UserWarning: \"https://www.amazon.com/review/create-review?ie=UTF8&asin=B00BMFIXOW&channel=detail-glance&nodeID=468642&ref_=cm_cr_dp_wrt_summary&store=videogames#\" looks like a URL. Beautiful Soup is not an HTTP client. You should probably use an HTTP client like requests to get the document behind the URL, and feed that document to Beautiful Soup.\n",
            "  ' that document to Beautiful Soup.' % decoded_markup\n",
            " 77%|███████▋  | 4053584/5282079 [21:00<06:59, 2926.40it/s]/usr/local/lib/python3.7/dist-packages/bs4/__init__.py:336: UserWarning: \"https://www.amazon.com/review/review-your-purchases/ref=pe_6680_241035080_cm_1_img?_encoding=UTF8&asins=B00EC6VARA&channel=ec_phy&crAuthToken=gIA%2B5%2B5bKuiZ2sszkz2rd0wkVyby06yb0B1qwYAAAAAJAAAAAFlQcEhyYXcAAAAA&customerId=AP4CH3GEGB4U0#\" looks like a URL. Beautiful Soup is not an HTTP client. You should probably use an HTTP client like requests to get the document behind the URL, and feed that document to Beautiful Soup.\n",
            "  ' that document to Beautiful Soup.' % decoded_markup\n",
            " 78%|███████▊  | 4114868/5282079 [21:20<06:11, 3138.21it/s]/usr/local/lib/python3.7/dist-packages/bs4/__init__.py:336: UserWarning: \"https://www.youtube.com/watch?v=XtmuMo1nTGY\" looks like a URL. Beautiful Soup is not an HTTP client. You should probably use an HTTP client like requests to get the document behind the URL, and feed that document to Beautiful Soup.\n",
            "  ' that document to Beautiful Soup.' % decoded_markup\n",
            " 81%|████████▏ | 4297619/5282079 [22:17<04:53, 3352.72it/s]/usr/local/lib/python3.7/dist-packages/bs4/__init__.py:336: UserWarning: \"https://www.amazon.com/dp/B00HTK1NCS/ref=cm_cr_ryp_prd_ttl_sol_2\" looks like a URL. Beautiful Soup is not an HTTP client. You should probably use an HTTP client like requests to get the document behind the URL, and feed that document to Beautiful Soup.\n",
            "  ' that document to Beautiful Soup.' % decoded_markup\n",
            " 82%|████████▏ | 4307170/5282079 [22:20<05:26, 2985.32it/s]/usr/local/lib/python3.7/dist-packages/bs4/__init__.py:336: UserWarning: \"https://youtu.be/Nlr4Bvzt1GU\" looks like a URL. Beautiful Soup is not an HTTP client. You should probably use an HTTP client like requests to get the document behind the URL, and feed that document to Beautiful Soup.\n",
            "  ' that document to Beautiful Soup.' % decoded_markup\n",
            " 82%|████████▏ | 4324777/5282079 [22:25<04:47, 3326.66it/s]/usr/local/lib/python3.7/dist-packages/bs4/__init__.py:336: UserWarning: \"https://smile.amazon.com/dp/B00INAX3Q2/ref=cm_cr_ryp_prd_ttl_sol_1\" looks like a URL. Beautiful Soup is not an HTTP client. You should probably use an HTTP client like requests to get the document behind the URL, and feed that document to Beautiful Soup.\n",
            "  ' that document to Beautiful Soup.' % decoded_markup\n",
            " 83%|████████▎ | 4358436/5282079 [22:36<04:27, 3453.18it/s]/usr/local/lib/python3.7/dist-packages/bs4/__init__.py:336: UserWarning: \"https://www.amazon.com/dp/B00JUFSH42/ref=cm_cr_ryp_prd_ttl_sol_4\" looks like a URL. Beautiful Soup is not an HTTP client. You should probably use an HTTP client like requests to get the document behind the URL, and feed that document to Beautiful Soup.\n",
            "  ' that document to Beautiful Soup.' % decoded_markup\n",
            " 83%|████████▎ | 4367481/5282079 [22:38<04:21, 3499.17it/s]/usr/local/lib/python3.7/dist-packages/bs4/__init__.py:336: UserWarning: \"http://www.amazon.com/gp/product/B00K2O5360?redirect=true&ref_=cm_cr_ryp_prd_ttl_sol_0\" looks like a URL. Beautiful Soup is not an HTTP client. You should probably use an HTTP client like requests to get the document behind the URL, and feed that document to Beautiful Soup.\n",
            "  ' that document to Beautiful Soup.' % decoded_markup\n",
            " 83%|████████▎ | 4373934/5282079 [22:40<04:25, 3416.98it/s]/usr/local/lib/python3.7/dist-packages/bs4/__init__.py:336: UserWarning: \"https://images-na.ssl-images-amazon.com/images/I/51287EWGT6L._SS300_.jpg\" looks like a URL. Beautiful Soup is not an HTTP client. You should probably use an HTTP client like requests to get the document behind the URL, and feed that document to Beautiful Soup.\n",
            "  ' that document to Beautiful Soup.' % decoded_markup\n",
            " 83%|████████▎ | 4386882/5282079 [22:44<04:14, 3514.77it/s]/usr/local/lib/python3.7/dist-packages/bs4/__init__.py:336: UserWarning: \"http://5ca16ikqu8euck32vix8yj1200.hop.clickbank.net/\" looks like a URL. Beautiful Soup is not an HTTP client. You should probably use an HTTP client like requests to get the document behind the URL, and feed that document to Beautiful Soup.\n",
            "  ' that document to Beautiful Soup.' % decoded_markup\n",
            " 83%|████████▎ | 4394218/5282079 [22:46<04:10, 3548.19it/s]/usr/local/lib/python3.7/dist-packages/bs4/__init__.py:336: UserWarning: \"http://ae6d6iu8nfxvfyf90sxhz9xcz6.hop.clickbank.net/\" looks like a URL. Beautiful Soup is not an HTTP client. You should probably use an HTTP client like requests to get the document behind the URL, and feed that document to Beautiful Soup.\n",
            "  ' that document to Beautiful Soup.' % decoded_markup\n",
            " 84%|████████▎ | 4423398/5282079 [22:55<04:39, 3070.98it/s]/usr/local/lib/python3.7/dist-packages/bs4/__init__.py:336: UserWarning: \"http://www.amazon.com/gp/product/B00KWHOXGI?redirect=true&ref_=cm_cr_ryp_prd_ttl_sol_2\" looks like a URL. Beautiful Soup is not an HTTP client. You should probably use an HTTP client like requests to get the document behind the URL, and feed that document to Beautiful Soup.\n",
            "  ' that document to Beautiful Soup.' % decoded_markup\n",
            " 84%|████████▎ | 4423740/5282079 [22:55<04:31, 3167.02it/s]/usr/local/lib/python3.7/dist-packages/bs4/__init__.py:336: UserWarning: \"http://www.amazon.com/gp/product/B00KWHJ1O2?redirect=true&ref_=cm_cr_ryp_prd_ttl_sol_4\" looks like a URL. Beautiful Soup is not an HTTP client. You should probably use an HTTP client like requests to get the document behind the URL, and feed that document to Beautiful Soup.\n",
            "  ' that document to Beautiful Soup.' % decoded_markup\n",
            " 84%|████████▍ | 4424393/5282079 [22:56<04:26, 3215.81it/s]/usr/local/lib/python3.7/dist-packages/bs4/__init__.py:336: UserWarning: \"http://www.amazon.com/gp/product/B00KWHJ0KC?redirect=true&ref_=cm_cr_ryp_prd_ttl_sol_5\" looks like a URL. Beautiful Soup is not an HTTP client. You should probably use an HTTP client like requests to get the document behind the URL, and feed that document to Beautiful Soup.\n",
            "  ' that document to Beautiful Soup.' % decoded_markup\n",
            " 84%|████████▍ | 4428459/5282079 [22:57<04:10, 3404.53it/s]/usr/local/lib/python3.7/dist-packages/bs4/__init__.py:336: UserWarning: \"https://www.amazon.com/dp/B00L2FGR7W/ref=cm_cr_ryp_prd_ttl_sol_65\" looks like a URL. Beautiful Soup is not an HTTP client. You should probably use an HTTP client like requests to get the document behind the URL, and feed that document to Beautiful Soup.\n",
            "  ' that document to Beautiful Soup.' % decoded_markup\n",
            " 85%|████████▍ | 4464658/5282079 [23:08<04:46, 2851.17it/s]/usr/local/lib/python3.7/dist-packages/bs4/__init__.py:336: UserWarning: \"https://www.amazon.com/dp/B00MTWV0RO/ref=cm_cr_ryp_prd_ttl_sol_0\" looks like a URL. Beautiful Soup is not an HTTP client. You should probably use an HTTP client like requests to get the document behind the URL, and feed that document to Beautiful Soup.\n",
            "  ' that document to Beautiful Soup.' % decoded_markup\n",
            " 85%|████████▍ | 4464965/5282079 [23:08<04:40, 2912.83it/s]/usr/local/lib/python3.7/dist-packages/bs4/__init__.py:336: UserWarning: \"http://www.amazon.com/Razer-Kraken-Chroma-Gaming-Headset/dp/B00MTWV0RO/ref=sr_1_8?ie=UTF8&qid=1463213561&sr=8-8&keywords=razer\" looks like a URL. Beautiful Soup is not an HTTP client. You should probably use an HTTP client like requests to get the document behind the URL, and feed that document to Beautiful Soup.\n",
            "  ' that document to Beautiful Soup.' % decoded_markup\n",
            " 85%|████████▍ | 4473192/5282079 [23:10<04:13, 3188.20it/s]/usr/local/lib/python3.7/dist-packages/bs4/__init__.py:336: UserWarning: \"http://www.amazon.com/gp/product/B00MVUKM0A?redirect=true&ref_=cm_cr_ryp_prd_ttl_sol_1\" looks like a URL. Beautiful Soup is not an HTTP client. You should probably use an HTTP client like requests to get the document behind the URL, and feed that document to Beautiful Soup.\n",
            "  ' that document to Beautiful Soup.' % decoded_markup\n",
            " 85%|████████▍ | 4481903/5282079 [23:13<03:40, 3631.03it/s]/usr/local/lib/python3.7/dist-packages/bs4/__init__.py:336: UserWarning: \"https://m.youtube.com/watch?v=wsFj4sxdbq8\" looks like a URL. Beautiful Soup is not an HTTP client. You should probably use an HTTP client like requests to get the document behind the URL, and feed that document to Beautiful Soup.\n",
            "  ' that document to Beautiful Soup.' % decoded_markup\n",
            " 85%|████████▍ | 4483760/5282079 [23:13<04:15, 3121.34it/s]/usr/local/lib/python3.7/dist-packages/bs4/__init__.py:336: UserWarning: \"https://smile.amazon.com/gp/product/B00N803C7W/ref=cm_cr_ryp_prd_ttl_sol_0\" looks like a URL. Beautiful Soup is not an HTTP client. You should probably use an HTTP client like requests to get the document behind the URL, and feed that document to Beautiful Soup.\n",
            "  ' that document to Beautiful Soup.' % decoded_markup\n",
            " 85%|████████▌ | 4501901/5282079 [23:19<03:57, 3291.62it/s]/usr/local/lib/python3.7/dist-packages/bs4/__init__.py:336: UserWarning: \"http://www.amazon.com/gp/product/B00NW6E2VM?redirect=true&ref_=cm_cr_ryp_prd_ttl_sol_9\" looks like a URL. Beautiful Soup is not an HTTP client. You should probably use an HTTP client like requests to get the document behind the URL, and feed that document to Beautiful Soup.\n",
            "  ' that document to Beautiful Soup.' % decoded_markup\n",
            " 85%|████████▌ | 4504163/5282079 [23:20<04:14, 3054.37it/s]/usr/local/lib/python3.7/dist-packages/bs4/__init__.py:336: UserWarning: \"http://www.amazon.com/gp/product/B00NXUKGQC?redirect=true&ref_=cm_cr_ryp_prd_ttl_sol_2\" looks like a URL. Beautiful Soup is not an HTTP client. You should probably use an HTTP client like requests to get the document behind the URL, and feed that document to Beautiful Soup.\n",
            "  ' that document to Beautiful Soup.' % decoded_markup\n",
            " 86%|████████▌ | 4518675/5282079 [23:24<03:41, 3443.93it/s]/usr/local/lib/python3.7/dist-packages/bs4/__init__.py:336: UserWarning: \"https://www.amazon.com/dp/B00OHJY7C2/ref=cm_cr_ryp_prd_ttl_sol_6\" looks like a URL. Beautiful Soup is not an HTTP client. You should probably use an HTTP client like requests to get the document behind the URL, and feed that document to Beautiful Soup.\n",
            "  ' that document to Beautiful Soup.' % decoded_markup\n",
            " 86%|████████▌ | 4521121/5282079 [23:25<03:44, 3394.74it/s]/usr/local/lib/python3.7/dist-packages/bs4/__init__.py:336: UserWarning: \"https://youtu.be/eA1diu2vpX0\" looks like a URL. Beautiful Soup is not an HTTP client. You should probably use an HTTP client like requests to get the document behind the URL, and feed that document to Beautiful Soup.\n",
            "  ' that document to Beautiful Soup.' % decoded_markup\n",
            " 86%|████████▌ | 4550041/5282079 [23:34<03:27, 3526.64it/s]/usr/local/lib/python3.7/dist-packages/bs4/__init__.py:336: UserWarning: \"https://www.youtube.com/watch?v=3NgPWKc7Dx4\" looks like a URL. Beautiful Soup is not an HTTP client. You should probably use an HTTP client like requests to get the document behind the URL, and feed that document to Beautiful Soup.\n",
            "  ' that document to Beautiful Soup.' % decoded_markup\n",
            " 87%|████████▋ | 4576241/5282079 [23:42<03:41, 3179.88it/s]/usr/local/lib/python3.7/dist-packages/bs4/__init__.py:336: UserWarning: \"https://youtu.be/14G4UKyz0P8\" looks like a URL. Beautiful Soup is not an HTTP client. You should probably use an HTTP client like requests to get the document behind the URL, and feed that document to Beautiful Soup.\n",
            "  ' that document to Beautiful Soup.' % decoded_markup\n",
            " 87%|████████▋ | 4604722/5282079 [23:51<03:28, 3247.60it/s]/usr/local/lib/python3.7/dist-packages/bs4/__init__.py:336: UserWarning: \"https://www.instagram.com/p/_40P_qzg2f/\" looks like a URL. Beautiful Soup is not an HTTP client. You should probably use an HTTP client like requests to get the document behind the URL, and feed that document to Beautiful Soup.\n",
            "  ' that document to Beautiful Soup.' % decoded_markup\n",
            " 88%|████████▊ | 4629263/5282079 [23:58<03:05, 3527.31it/s]/usr/local/lib/python3.7/dist-packages/bs4/__init__.py:336: UserWarning: \"https://www.amazon.com/dp/B00Y8CQCXA/ref=cm_cr_ryp_prd_ttl_sol_4\" looks like a URL. Beautiful Soup is not an HTTP client. You should probably use an HTTP client like requests to get the document behind the URL, and feed that document to Beautiful Soup.\n",
            "  ' that document to Beautiful Soup.' % decoded_markup\n",
            " 88%|████████▊ | 4653399/5282079 [24:05<03:41, 2835.08it/s]/usr/local/lib/python3.7/dist-packages/bs4/__init__.py:336: UserWarning: \"https://www.amazon.com/dp/B00Z9MDPN8/ref=cm_cr_ryp_prd_ttl_sol_0\" looks like a URL. Beautiful Soup is not an HTTP client. You should probably use an HTTP client like requests to get the document behind the URL, and feed that document to Beautiful Soup.\n",
            "  ' that document to Beautiful Soup.' % decoded_markup\n",
            " 88%|████████▊ | 4664545/5282079 [24:09<02:55, 3512.18it/s]/usr/local/lib/python3.7/dist-packages/bs4/__init__.py:336: UserWarning: \"https://youtu.be/cbLnjVkH0H4\" looks like a URL. Beautiful Soup is not an HTTP client. You should probably use an HTTP client like requests to get the document behind the URL, and feed that document to Beautiful Soup.\n",
            "  ' that document to Beautiful Soup.' % decoded_markup\n",
            " 89%|████████▉ | 4698867/5282079 [24:20<02:43, 3568.95it/s]/usr/local/lib/python3.7/dist-packages/bs4/__init__.py:336: UserWarning: \"https://youtu.be/rtiQMto4hZM?t=5s\" looks like a URL. Beautiful Soup is not an HTTP client. You should probably use an HTTP client like requests to get the document behind the URL, and feed that document to Beautiful Soup.\n",
            "  ' that document to Beautiful Soup.' % decoded_markup\n",
            " 90%|████████▉ | 4741091/5282079 [24:32<02:29, 3611.51it/s]/usr/local/lib/python3.7/dist-packages/bs4/__init__.py:336: UserWarning: \"http://www.smsuspur.net/ae/2016/02/11/dragon-age-review/\" looks like a URL. Beautiful Soup is not an HTTP client. You should probably use an HTTP client like requests to get the document behind the URL, and feed that document to Beautiful Soup.\n",
            "  ' that document to Beautiful Soup.' % decoded_markup\n",
            " 90%|████████▉ | 4751515/5282079 [24:35<02:40, 3312.64it/s]/usr/local/lib/python3.7/dist-packages/bs4/__init__.py:336: UserWarning: \"https://www.amazon.com/dp/B0166QDJDQ/ref=cm_cr_ryp_prd_ttl_sol_27\" looks like a URL. Beautiful Soup is not an HTTP client. You should probably use an HTTP client like requests to get the document behind the URL, and feed that document to Beautiful Soup.\n",
            "  ' that document to Beautiful Soup.' % decoded_markup\n",
            " 91%|█████████ | 4812333/5282079 [24:54<02:19, 3377.86it/s]/usr/local/lib/python3.7/dist-packages/bs4/__init__.py:336: UserWarning: \"https://www.amazon.com/dp/B01AHZUEQC/ref=cm_cr_ryp_prd_ttl_sol_0\" looks like a URL. Beautiful Soup is not an HTTP client. You should probably use an HTTP client like requests to get the document behind the URL, and feed that document to Beautiful Soup.\n",
            "  ' that document to Beautiful Soup.' % decoded_markup\n",
            " 91%|█████████▏| 4824255/5282079 [24:58<02:19, 3284.48it/s]/usr/local/lib/python3.7/dist-packages/bs4/__init__.py:336: UserWarning: \"https://www.amazon.com/gp/product/B01BEELH52/ref=oh_aui_detailpage_o01_s00?ie=UTF8&psc=1\" looks like a URL. Beautiful Soup is not an HTTP client. You should probably use an HTTP client like requests to get the document behind the URL, and feed that document to Beautiful Soup.\n",
            "  ' that document to Beautiful Soup.' % decoded_markup\n",
            " 92%|█████████▏| 4834778/5282079 [25:01<02:29, 2989.92it/s]/usr/local/lib/python3.7/dist-packages/bs4/__init__.py:336: UserWarning: \"https://www.amazon.com/dp/B01CEFEMFW/ref=cm_cr_ryp_prd_ttl_sol_14\" looks like a URL. Beautiful Soup is not an HTTP client. You should probably use an HTTP client like requests to get the document behind the URL, and feed that document to Beautiful Soup.\n",
            "  ' that document to Beautiful Soup.' % decoded_markup\n",
            " 92%|█████████▏| 4838358/5282079 [25:02<02:15, 3264.09it/s]/usr/local/lib/python3.7/dist-packages/bs4/__init__.py:336: UserWarning: \"https://smile.amazon.com/dp/B01CKGI0TO/ref=cm_cr_ryp_prd_ttl_sol_0\" looks like a URL. Beautiful Soup is not an HTTP client. You should probably use an HTTP client like requests to get the document behind the URL, and feed that document to Beautiful Soup.\n",
            "  ' that document to Beautiful Soup.' % decoded_markup\n",
            " 92%|█████████▏| 4856382/5282079 [25:08<02:10, 3260.88it/s]/usr/local/lib/python3.7/dist-packages/bs4/__init__.py:336: UserWarning: \"https://www.amazon.com/dp/B01E6U4T7Y/ref=cm_cr_ryp_prd_ttl_sol_3\" looks like a URL. Beautiful Soup is not an HTTP client. You should probably use an HTTP client like requests to get the document behind the URL, and feed that document to Beautiful Soup.\n",
            "  ' that document to Beautiful Soup.' % decoded_markup\n",
            " 92%|█████████▏| 4864899/5282079 [25:11<02:05, 3336.26it/s]/usr/local/lib/python3.7/dist-packages/bs4/__init__.py:336: UserWarning: \"https://www.amazon.com/dp/B01EZA0D8O/ref=cm_cr_ryp_prd_ttl_sol_7\" looks like a URL. Beautiful Soup is not an HTTP client. You should probably use an HTTP client like requests to get the document behind the URL, and feed that document to Beautiful Soup.\n",
            "  ' that document to Beautiful Soup.' % decoded_markup\n",
            " 93%|█████████▎| 4890478/5282079 [25:19<01:50, 3542.78it/s]/usr/local/lib/python3.7/dist-packages/bs4/__init__.py:336: UserWarning: \"https://smile.amazon.com/dp/B01GKH5Q9G/ref=cm_cr_ryp_prd_ttl_sol_0\" looks like a URL. Beautiful Soup is not an HTTP client. You should probably use an HTTP client like requests to get the document behind the URL, and feed that document to Beautiful Soup.\n",
            "  ' that document to Beautiful Soup.' % decoded_markup\n",
            " 93%|█████████▎| 4899714/5282079 [25:21<01:54, 3338.62it/s]/usr/local/lib/python3.7/dist-packages/bs4/__init__.py:336: UserWarning: \"https://smile.amazon.com/dp/B01GVE4YB4/ref=cm_cr_ryp_prd_ttl_sol_0\" looks like a URL. Beautiful Soup is not an HTTP client. You should probably use an HTTP client like requests to get the document behind the URL, and feed that document to Beautiful Soup.\n",
            "  ' that document to Beautiful Soup.' % decoded_markup\n",
            " 93%|█████████▎| 4918512/5282079 [25:27<01:44, 3486.34it/s]/usr/local/lib/python3.7/dist-packages/bs4/__init__.py:336: UserWarning: \"https://www.amazon.com/dp/B01HDJFJOM/ref=cm_cr_ryp_prd_ttl_sol_4\" looks like a URL. Beautiful Soup is not an HTTP client. You should probably use an HTTP client like requests to get the document behind the URL, and feed that document to Beautiful Soup.\n",
            "  ' that document to Beautiful Soup.' % decoded_markup\n",
            " 96%|█████████▌| 5071791/5282079 [26:18<01:05, 3187.81it/s]/usr/local/lib/python3.7/dist-packages/bs4/__init__.py:336: UserWarning: \"https://www.amazon.com/dp/B001QXNBNI/ref=cm_cr_ryp_prd_ttl_sol_3\" looks like a URL. Beautiful Soup is not an HTTP client. You should probably use an HTTP client like requests to get the document behind the URL, and feed that document to Beautiful Soup.\n",
            "  ' that document to Beautiful Soup.' % decoded_markup\n",
            " 96%|█████████▋| 5092806/5282079 [26:24<00:57, 3277.37it/s]/usr/local/lib/python3.7/dist-packages/bs4/__init__.py:336: UserWarning: \"https://www.amazon.com/dp/B003O65TXU/ref=cm_cr_ryp_prd_ttl_sol_2https://www.amazon.com/dp/B003O65TXU/ref=cm_cr_ryp_prd_ttl_sol_2\" looks like a URL. Beautiful Soup is not an HTTP client. You should probably use an HTTP client like requests to get the document behind the URL, and feed that document to Beautiful Soup.\n",
            "  ' that document to Beautiful Soup.' % decoded_markup\n",
            " 97%|█████████▋| 5099880/5282079 [26:26<00:57, 3190.71it/s]/usr/local/lib/python3.7/dist-packages/bs4/__init__.py:336: UserWarning: \"https://www.amazon.com/dp/B0048C7S5G/ref=cm_cr_ryp_prd_ttl_sol_1\" looks like a URL. Beautiful Soup is not an HTTP client. You should probably use an HTTP client like requests to get the document behind the URL, and feed that document to Beautiful Soup.\n",
            "  ' that document to Beautiful Soup.' % decoded_markup\n",
            " 98%|█████████▊| 5153130/5282079 [26:42<00:38, 3348.32it/s]/usr/local/lib/python3.7/dist-packages/bs4/__init__.py:336: UserWarning: \"https://www.amazon.com/gp/product/B00C10JLBQ/ref=oh_aui_d_detailpage_o00_?ie=UTF8&psc=1\" looks like a URL. Beautiful Soup is not an HTTP client. You should probably use an HTTP client like requests to get the document behind the URL, and feed that document to Beautiful Soup.\n",
            "  ' that document to Beautiful Soup.' % decoded_markup\n",
            " 98%|█████████▊| 5172574/5282079 [26:48<00:33, 3317.43it/s]/usr/local/lib/python3.7/dist-packages/bs4/__init__.py:336: UserWarning: \"https://images-na.ssl-images-amazon.com/images/I/41tGyAHbK7L._SL500_SS300_.jpg\" looks like a URL. Beautiful Soup is not an HTTP client. You should probably use an HTTP client like requests to get the document behind the URL, and feed that document to Beautiful Soup.\n",
            "  ' that document to Beautiful Soup.' % decoded_markup\n",
            " 98%|█████████▊| 5197257/5282079 [26:55<00:24, 3488.66it/s]/usr/local/lib/python3.7/dist-packages/bs4/__init__.py:336: UserWarning: \"https://sevenflorins.wordpress.com/2015/02/27/transistor-review/\" looks like a URL. Beautiful Soup is not an HTTP client. You should probably use an HTTP client like requests to get the document behind the URL, and feed that document to Beautiful Soup.\n",
            "  ' that document to Beautiful Soup.' % decoded_markup\n",
            " 98%|█████████▊| 5198350/5282079 [26:55<00:23, 3594.71it/s]/usr/local/lib/python3.7/dist-packages/bs4/__init__.py:336: UserWarning: \"http://shotonline.gamescampus.eu\" looks like a URL. Beautiful Soup is not an HTTP client. You should probably use an HTTP client like requests to get the document behind the URL, and feed that document to Beautiful Soup.\n",
            "  ' that document to Beautiful Soup.' % decoded_markup\n",
            "/usr/local/lib/python3.7/dist-packages/bs4/__init__.py:336: UserWarning: \"https://www.amazon.com/gp/product/B00LG6SS8S/ref=oh_aui_detailpage_o02_s00?ie=UTF8&psc=1\" looks like a URL. Beautiful Soup is not an HTTP client. You should probably use an HTTP client like requests to get the document behind the URL, and feed that document to Beautiful Soup.\n",
            "  ' that document to Beautiful Soup.' % decoded_markup\n",
            " 99%|█████████▉| 5224236/5282079 [27:03<00:16, 3459.02it/s]/usr/local/lib/python3.7/dist-packages/bs4/__init__.py:336: UserWarning: \"https://www.amazon.com/dp/B00VBZVFW0/ref=cm_cr_ryp_prd_ttl_sol_3\" looks like a URL. Beautiful Soup is not an HTTP client. You should probably use an HTTP client like requests to get the document behind the URL, and feed that document to Beautiful Soup.\n",
            "  ' that document to Beautiful Soup.' % decoded_markup\n",
            " 99%|█████████▉| 5247614/5282079 [27:09<00:09, 3635.59it/s]/usr/local/lib/python3.7/dist-packages/bs4/__init__.py:336: UserWarning: \"https://www.amazon.com/dp/B015VXM6H0/ref=cm_cr_ryp_prd_ttl_sol_0\" looks like a URL. Beautiful Soup is not an HTTP client. You should probably use an HTTP client like requests to get the document behind the URL, and feed that document to Beautiful Soup.\n",
            "  ' that document to Beautiful Soup.' % decoded_markup\n",
            "100%|██████████| 5282079/5282079 [27:19<00:00, 3221.49it/s]\n"
          ],
          "name": "stderr"
        }
      ]
    },
    {
      "cell_type": "code",
      "metadata": {
        "id": "Obs5P_tTVNBw",
        "colab": {
          "base_uri": "https://localhost:8080/",
          "height": 597
        },
        "outputId": "07ef2db5-4359-400d-eafe-b6ff7abeefc7"
      },
      "source": [
        "read_review.head(100)"
      ],
      "execution_count": 26,
      "outputs": [
        {
          "output_type": "execute_result",
          "data": {
            "text/html": [
              "<div>\n",
              "<style scoped>\n",
              "    .dataframe tbody tr th:only-of-type {\n",
              "        vertical-align: middle;\n",
              "    }\n",
              "\n",
              "    .dataframe tbody tr th {\n",
              "        vertical-align: top;\n",
              "    }\n",
              "\n",
              "    .dataframe thead th {\n",
              "        text-align: right;\n",
              "    }\n",
              "</style>\n",
              "<table border=\"1\" class=\"dataframe\">\n",
              "  <thead>\n",
              "    <tr style=\"text-align: right;\">\n",
              "      <th></th>\n",
              "      <th>index</th>\n",
              "      <th>overall</th>\n",
              "      <th>reviewText</th>\n",
              "      <th>sentiment</th>\n",
              "      <th>cleanedText</th>\n",
              "    </tr>\n",
              "  </thead>\n",
              "  <tbody>\n",
              "    <tr>\n",
              "      <th>0</th>\n",
              "      <td>0</td>\n",
              "      <td>5</td>\n",
              "      <td>Crocheting for Dummies by Karen Manthey &amp; Susa...</td>\n",
              "      <td>1</td>\n",
              "      <td>crocheting for dummies by karen manthey   susa...</td>\n",
              "    </tr>\n",
              "    <tr>\n",
              "      <th>1</th>\n",
              "      <td>1</td>\n",
              "      <td>4</td>\n",
              "      <td>Very helpful...</td>\n",
              "      <td>1</td>\n",
              "      <td>very helpful</td>\n",
              "    </tr>\n",
              "    <tr>\n",
              "      <th>2</th>\n",
              "      <td>2</td>\n",
              "      <td>5</td>\n",
              "      <td>EASY TO UNDERSTAND AND A PROMPT SERVICE TOO</td>\n",
              "      <td>1</td>\n",
              "      <td>easy to understand and a prompt service too</td>\n",
              "    </tr>\n",
              "    <tr>\n",
              "      <th>3</th>\n",
              "      <td>3</td>\n",
              "      <td>4</td>\n",
              "      <td>My girlfriend use quite often</td>\n",
              "      <td>1</td>\n",
              "      <td>my girlfriend use quite often</td>\n",
              "    </tr>\n",
              "    <tr>\n",
              "      <th>4</th>\n",
              "      <td>4</td>\n",
              "      <td>5</td>\n",
              "      <td>Arrived as described. Very happy.</td>\n",
              "      <td>1</td>\n",
              "      <td>arrived as described  very happy</td>\n",
              "    </tr>\n",
              "    <tr>\n",
              "      <th>...</th>\n",
              "      <td>...</td>\n",
              "      <td>...</td>\n",
              "      <td>...</td>\n",
              "      <td>...</td>\n",
              "      <td>...</td>\n",
              "    </tr>\n",
              "    <tr>\n",
              "      <th>98</th>\n",
              "      <td>98</td>\n",
              "      <td>5</td>\n",
              "      <td>very good</td>\n",
              "      <td>1</td>\n",
              "      <td>very good</td>\n",
              "    </tr>\n",
              "    <tr>\n",
              "      <th>99</th>\n",
              "      <td>99</td>\n",
              "      <td>5</td>\n",
              "      <td>Good book</td>\n",
              "      <td>1</td>\n",
              "      <td>good book</td>\n",
              "    </tr>\n",
              "    <tr>\n",
              "      <th>100</th>\n",
              "      <td>100</td>\n",
              "      <td>1</td>\n",
              "      <td>Save yourself the oftalmologist's visit and bu...</td>\n",
              "      <td>0</td>\n",
              "      <td>save yourself the oftalmologist is visit and b...</td>\n",
              "    </tr>\n",
              "    <tr>\n",
              "      <th>101</th>\n",
              "      <td>101</td>\n",
              "      <td>5</td>\n",
              "      <td>I took this out of the library first and enjoy...</td>\n",
              "      <td>1</td>\n",
              "      <td>i took this out of the library first and enjoy...</td>\n",
              "    </tr>\n",
              "    <tr>\n",
              "      <th>102</th>\n",
              "      <td>102</td>\n",
              "      <td>5</td>\n",
              "      <td>This is a reference source for me and since fi...</td>\n",
              "      <td>1</td>\n",
              "      <td>this is a reference source for me and since fi...</td>\n",
              "    </tr>\n",
              "  </tbody>\n",
              "</table>\n",
              "<p>100 rows × 5 columns</p>\n",
              "</div>"
            ],
            "text/plain": [
              "     index  ...                                        cleanedText\n",
              "0        0  ...  crocheting for dummies by karen manthey   susa...\n",
              "1        1  ...                                    very helpful   \n",
              "2        2  ...        easy to understand and a prompt service too\n",
              "3        3  ...                      my girlfriend use quite often\n",
              "4        4  ...                  arrived as described  very happy \n",
              "..     ...  ...                                                ...\n",
              "98      98  ...                                          very good\n",
              "99      99  ...                                          good book\n",
              "100    100  ...  save yourself the oftalmologist is visit and b...\n",
              "101    101  ...  i took this out of the library first and enjoy...\n",
              "102    102  ...  this is a reference source for me and since fi...\n",
              "\n",
              "[100 rows x 5 columns]"
            ]
          },
          "metadata": {
            "tags": []
          },
          "execution_count": 26
        }
      ]
    },
    {
      "cell_type": "code",
      "metadata": {
        "id": "9Ynw6I8oolox"
      },
      "source": [
        "# with tf.device('/device:GPU:0'): \n",
        "#     read_review['word_count'] = read_review[\"cleanedText\"].apply(lambda x: len(str(x).split(\" \")))\n",
        "#     read_review['char_count'] = read_review[\"cleanedText\"].apply(lambda x: sum(len(word) for word in str(x).split(\" \")))\n",
        "#     read_review['sentence_count'] = read_review[\"cleanedText\"].apply(lambda x: len(str(x).split(\".\")))\n",
        "#     read_review['avg_word_length'] = read_review['char_count'] / read_review['word_count']\n",
        "#     read_review['avg_sentence_lenght'] = read_review['word_count'] / read_review['sentence_count']\n",
        "#     read_review.head()"
      ],
      "execution_count": 27,
      "outputs": []
    },
    {
      "cell_type": "markdown",
      "metadata": {
        "id": "-hjEpsMXf0-s"
      },
      "source": [
        "### Random Under-Sampling"
      ]
    },
    {
      "cell_type": "code",
      "metadata": {
        "id": "TGaFZiuzfKiv",
        "colab": {
          "base_uri": "https://localhost:8080/"
        },
        "outputId": "9a042fa8-b84c-4732-fbec-45455f9c4428"
      },
      "source": [
        "count_1,count_0 = read_review['sentiment'].value_counts()\n",
        "# print(count_0)\n",
        "\n",
        "class_0 = read_review[read_review['sentiment'] == 0]\n",
        "class_1 = read_review[read_review['sentiment'] == 1]\n",
        "\n",
        "print('0: ', class_0.shape)\n",
        "print('1: ',class_1.shape)"
      ],
      "execution_count": 28,
      "outputs": [
        {
          "output_type": "stream",
          "text": [
            "0:  (704592, 5)\n",
            "1:  (4577487, 5)\n"
          ],
          "name": "stdout"
        }
      ]
    },
    {
      "cell_type": "code",
      "metadata": {
        "id": "WUwCq4nUgSiO",
        "colab": {
          "base_uri": "https://localhost:8080/"
        },
        "outputId": "2fa88d23-6ad7-490c-e6f6-99a2a4715e3a"
      },
      "source": [
        "class_1_underSample = class_1.sample(count_0)\n",
        "\n",
        "test_underSample = pd.concat([class_0,class_1_underSample],axis=0)\n",
        "\n",
        "print(test_underSample['sentiment'].value_counts())"
      ],
      "execution_count": 29,
      "outputs": [
        {
          "output_type": "stream",
          "text": [
            "1    704592\n",
            "0    704592\n",
            "Name: sentiment, dtype: int64\n"
          ],
          "name": "stdout"
        }
      ]
    },
    {
      "cell_type": "code",
      "metadata": {
        "id": "TaFijjILhjPp",
        "colab": {
          "base_uri": "https://localhost:8080/",
          "height": 302
        },
        "outputId": "d12fca08-c7b8-4b1d-94fe-5fe325212896"
      },
      "source": [
        "test_underSample.head() "
      ],
      "execution_count": 30,
      "outputs": [
        {
          "output_type": "execute_result",
          "data": {
            "text/html": [
              "<div>\n",
              "<style scoped>\n",
              "    .dataframe tbody tr th:only-of-type {\n",
              "        vertical-align: middle;\n",
              "    }\n",
              "\n",
              "    .dataframe tbody tr th {\n",
              "        vertical-align: top;\n",
              "    }\n",
              "\n",
              "    .dataframe thead th {\n",
              "        text-align: right;\n",
              "    }\n",
              "</style>\n",
              "<table border=\"1\" class=\"dataframe\">\n",
              "  <thead>\n",
              "    <tr style=\"text-align: right;\">\n",
              "      <th></th>\n",
              "      <th>index</th>\n",
              "      <th>overall</th>\n",
              "      <th>reviewText</th>\n",
              "      <th>sentiment</th>\n",
              "      <th>cleanedText</th>\n",
              "    </tr>\n",
              "  </thead>\n",
              "  <tbody>\n",
              "    <tr>\n",
              "      <th>67</th>\n",
              "      <td>67</td>\n",
              "      <td>2</td>\n",
              "      <td>I have never really used it. I don't really ge...</td>\n",
              "      <td>0</td>\n",
              "      <td>i have never really used it  i do not really g...</td>\n",
              "    </tr>\n",
              "    <tr>\n",
              "      <th>68</th>\n",
              "      <td>68</td>\n",
              "      <td>2</td>\n",
              "      <td>Package arrived in the time frame that was gua...</td>\n",
              "      <td>0</td>\n",
              "      <td>package arrived in the time frame that was gua...</td>\n",
              "    </tr>\n",
              "    <tr>\n",
              "      <th>91</th>\n",
              "      <td>91</td>\n",
              "      <td>2</td>\n",
              "      <td>This book is just okay. Crochet step-by-step b...</td>\n",
              "      <td>0</td>\n",
              "      <td>this book is just okay  crochet step by step b...</td>\n",
              "    </tr>\n",
              "    <tr>\n",
              "      <th>100</th>\n",
              "      <td>100</td>\n",
              "      <td>1</td>\n",
              "      <td>Save yourself the oftalmologist's visit and bu...</td>\n",
              "      <td>0</td>\n",
              "      <td>save yourself the oftalmologist is visit and b...</td>\n",
              "    </tr>\n",
              "    <tr>\n",
              "      <th>160</th>\n",
              "      <td>160</td>\n",
              "      <td>1</td>\n",
              "      <td>This book was not what I thought, there should...</td>\n",
              "      <td>0</td>\n",
              "      <td>this book was not what i thought  there should...</td>\n",
              "    </tr>\n",
              "  </tbody>\n",
              "</table>\n",
              "</div>"
            ],
            "text/plain": [
              "     index  ...                                        cleanedText\n",
              "67      67  ...  i have never really used it  i do not really g...\n",
              "68      68  ...  package arrived in the time frame that was gua...\n",
              "91      91  ...  this book is just okay  crochet step by step b...\n",
              "100    100  ...  save yourself the oftalmologist is visit and b...\n",
              "160    160  ...  this book was not what i thought  there should...\n",
              "\n",
              "[5 rows x 5 columns]"
            ]
          },
          "metadata": {
            "tags": []
          },
          "execution_count": 30
        }
      ]
    },
    {
      "cell_type": "markdown",
      "metadata": {
        "id": "G_5sykxXhZMe"
      },
      "source": [
        "### Feature Engineering"
      ]
    },
    {
      "cell_type": "markdown",
      "metadata": {
        "id": "4f0Cen22ifhi"
      },
      "source": [
        "Using TFidf vectorizer for transforming the reviews into numerical feature vectors (vectorization) that the computer can understand"
      ]
    },
    {
      "cell_type": "code",
      "metadata": {
        "id": "l-ZrrlkdifLq"
      },
      "source": [
        "from sklearn.feature_extraction.text import TfidfVectorizer\n",
        "from sklearn.feature_extraction.text import CountVectorizer"
      ],
      "execution_count": 104,
      "outputs": []
    },
    {
      "cell_type": "code",
      "metadata": {
        "id": "OQYnofSokhE8"
      },
      "source": [
        "X = test_underSample['cleanedText'].values\n",
        "y = test_underSample['sentiment'].values"
      ],
      "execution_count": 105,
      "outputs": []
    },
    {
      "cell_type": "code",
      "metadata": {
        "id": "9JQZO75KhYIA"
      },
      "source": [
        "with tf.device('/device:GPU:0'):    \n",
        "    ct_vectorizer = CountVectorizer(binary=True)\n",
        "    # print(X.toarray())\n",
        "  "
      ],
      "execution_count": 106,
      "outputs": []
    },
    {
      "cell_type": "code",
      "metadata": {
        "id": "_E6N8sxalqLf"
      },
      "source": [
        "#eliminate NaN elements of y\n",
        "i = 0\n",
        "while(i < len(y)):\n",
        "    if type(y[i]) == float:\n",
        "        X = np.delete(x, i)\n",
        "        y = np.delete(y, i)\n",
        "        i += -1\n",
        "    i += 1"
      ],
      "execution_count": 107,
      "outputs": []
    },
    {
      "cell_type": "code",
      "metadata": {
        "id": "4TD45Ib0iYEM",
        "colab": {
          "base_uri": "https://localhost:8080/"
        },
        "outputId": "31ecc7cb-fa01-4e00-aed1-4c39feeeb592"
      },
      "source": [
        "print(X)"
      ],
      "execution_count": 108,
      "outputs": [
        {
          "output_type": "stream",
          "text": [
            "['i have never really used it  i do not really get these  dummies  books '\n",
            " 'package arrived in the time frame that was guaranteed however the front cover i torn up  i love my books and this is a great annoyance to me   if you purchase  just be prepared it may arrived damaged '\n",
            " 'this book is just okay  crochet step by step by sally harding is much better for the beginner  priscilla teitenberg'\n",
            " ...\n",
            " 'we got this for our   year old son who is showing an interest in music  the light up keys are perfect for him to start to learn without having to read music yet  he has some short term success playing tunes that keeps him motivated to learn more  i have even picked up playing again even though i have not since i was young  there are so many demo songs and it comes with the sheet music so it is been fun to start playing again  it definitely is not the same as a piano since you can not play forte or pianoforte or crescendo  etc   and i do miss that since it brings much more feeling to a piece  but i knew that would be the case when i bought it   i would recommend buying a decent music stand  this just has a simple bar and a very small lip so a single piece of sheet music falls through with no support and any books over a few pages slide down off the lip and onto your keys while you are playing  overall  i am pleased with this for my son as a beginning instrument to further interest him in music  and if he wants to pursue it more we can always move up to a real piano '\n",
            " 'very happy   good quality '\n",
            " 'yo  this is pink  order purple from ant hill music if you want purple kinda blue  they are customer service was top notch af ']\n"
          ],
          "name": "stdout"
        }
      ]
    },
    {
      "cell_type": "code",
      "metadata": {
        "id": "YyWVYS1-iZeT",
        "colab": {
          "base_uri": "https://localhost:8080/"
        },
        "outputId": "14f5387e-1ad3-420f-b3c8-01e671316ba9"
      },
      "source": [
        "print(y)"
      ],
      "execution_count": 109,
      "outputs": [
        {
          "output_type": "stream",
          "text": [
            "[0 0 0 ... 1 1 1]\n"
          ],
          "name": "stdout"
        }
      ]
    },
    {
      "cell_type": "code",
      "metadata": {
        "id": "Z2VBSPRzuX4R"
      },
      "source": [
        "X_train, X_test, y_train, y_test = train_test_split(X, y, test_size=0.25, random_state=42)"
      ],
      "execution_count": 110,
      "outputs": []
    },
    {
      "cell_type": "code",
      "metadata": {
        "id": "kU95om4bgZgV"
      },
      "source": [
        "with tf.device('/device:GPU:0'):       \n",
        "    X_train = ct_vectorizer.fit_transform(X_train)\n",
        "    X_test = ct_vectorizer.transform(X_test)\n"
      ],
      "execution_count": 112,
      "outputs": []
    },
    {
      "cell_type": "code",
      "metadata": {
        "id": "tCuye632vUtV",
        "colab": {
          "base_uri": "https://localhost:8080/"
        },
        "outputId": "6ac0d2a5-0a5d-40a5-b7d8-688c91240f5b"
      },
      "source": [
        "print(\"Training data: X_train : {}, y_train : {}\".format(X_train.shape, y_train.shape))\n",
        "print(\"Testing data: X_test : {}, y_test : {}\".format(X_test.shape, y_test.shape))"
      ],
      "execution_count": 113,
      "outputs": [
        {
          "output_type": "stream",
          "text": [
            "Training data: X_train : (1056888, 226738), y_train : (1056888,)\n",
            "Testing data: X_test : (352296, 226738), y_test : (352296,)\n"
          ],
          "name": "stdout"
        }
      ]
    },
    {
      "cell_type": "markdown",
      "metadata": {
        "id": "dpFQWYuu6wU6"
      },
      "source": [
        "## Model Training"
      ]
    },
    {
      "cell_type": "markdown",
      "metadata": {
        "id": "QBqwGj2_60of"
      },
      "source": [
        "Logistic Regression: regression with output constrained between 0 and 1 with a sigmoid logistic function, as we see here, combine the linear regression with a logistic function, we get the logistic regression function:\n",
        "\n",
        "$$ \n",
        "    P(y=1|\\vec{x}) = \\frac{1}{1 + e^{(- t)}}  = \\frac{1}{1 + e^{(-\\sum_i\\beta_i x_i)}} \n",
        "$$\n",
        "$x_i$ is value of feature $i$ in an instance (count of a word)\n",
        "$\\beta_i$ is the real-valued model parameter associated with feature $i$\n",
        "E.g., high $\\beta_i$ means feature $i$ is predictive of positive class ($y=1$)\n",
        "$P(y=1|\\vec{x})$ is the probability of being positive\n",
        "If $P(y=1|\\vec{x}) &gt;= .5$, classify as positive; Otherwise, negative."
      ]
    },
    {
      "cell_type": "code",
      "metadata": {
        "id": "TOOv2ovL6rQa"
      },
      "source": [
        "from sklearn.linear_model import LogisticRegression"
      ],
      "execution_count": 114,
      "outputs": []
    },
    {
      "cell_type": "code",
      "metadata": {
        "id": "qdCfu8jl6-4W"
      },
      "source": [
        "with tf.device('/device:GPU:0'):     \n",
        "    clf = LogisticRegression(max_iter=10000)\n",
        "    clf.fit(X_train,y_train)"
      ],
      "execution_count": 115,
      "outputs": []
    },
    {
      "cell_type": "code",
      "metadata": {
        "id": "-toX9WEm7K_N",
        "colab": {
          "base_uri": "https://localhost:8080/"
        },
        "outputId": "d9c88bff-e081-4082-f1da-da1d269d00c6"
      },
      "source": [
        "y_pred_test = clf.predict(X_test)\n",
        "print(\"Logistic Regression Accuracy Score: \",accuracy_score(y_pred_test,y_test)*100)\n",
        "cm = confusion_matrix(y_test, y_pred_test)\n",
        "print('True positive = ', cm[0][0])\n",
        "print('False positive = ', cm[0][1])\n",
        "print('False negative = ', cm[1][0])\n",
        "print('True negative = ', cm[1][1])\n",
        "print(\"FPR =\", (cm[0][1])/(cm[0][1]+cm[1][1]))\n",
        "print(classification_report(y_test,y_pred_test))"
      ],
      "execution_count": 116,
      "outputs": [
        {
          "output_type": "stream",
          "text": [
            "Logistic Regression Accuracy Score:  91.28119535844857\n",
            "True positive =  159456\n",
            "False positive =  16254\n",
            "False negative =  14462\n",
            "True negative =  162124\n",
            "FPR = 0.09112110237809595\n",
            "              precision    recall  f1-score   support\n",
            "\n",
            "           0       0.92      0.91      0.91    175710\n",
            "           1       0.91      0.92      0.91    176586\n",
            "\n",
            "    accuracy                           0.91    352296\n",
            "   macro avg       0.91      0.91      0.91    352296\n",
            "weighted avg       0.91      0.91      0.91    352296\n",
            "\n"
          ],
          "name": "stdout"
        }
      ]
    },
    {
      "cell_type": "code",
      "metadata": {
        "id": "hgONHPyz9vsQ",
        "colab": {
          "base_uri": "https://localhost:8080/"
        },
        "outputId": "8d6b6bfe-d60e-4a15-b532-f646f4dea0ea"
      },
      "source": [
        "y_pred_prob_test = clf.predict_proba(X_test)\n",
        "print(y_pred_prob_test)"
      ],
      "execution_count": 117,
      "outputs": [
        {
          "output_type": "stream",
          "text": [
            "[[9.99983665e-01 1.63347508e-05]\n",
            " [9.67866136e-01 3.21338643e-02]\n",
            " [1.52916292e-01 8.47083708e-01]\n",
            " ...\n",
            " [9.93494659e-01 6.50534103e-03]\n",
            " [5.97775635e-01 4.02224365e-01]\n",
            " [8.72628428e-01 1.27371572e-01]]\n"
          ],
          "name": "stdout"
        }
      ]
    },
    {
      "cell_type": "markdown",
      "metadata": {
        "id": "oeO7n4oA-KT8"
      },
      "source": [
        "### Out of Domain Prediction\n"
      ]
    },
    {
      "cell_type": "code",
      "metadata": {
        "id": "vwouaEqe-B_x"
      },
      "source": [
        "# from sklearn.model_selection import cross_val_score\n",
        "# with tf.device('/device:GPU:0'): \n",
        "#     scores = cross_val_score(clf, X, y, cv=5, scoring='precision')\n",
        "#     print(scores)"
      ],
      "execution_count": 118,
      "outputs": []
    },
    {
      "cell_type": "code",
      "metadata": {
        "id": "EM98pgdn-Rcl"
      },
      "source": [
        "rev_1 = \"This book takes one through forty of his photographs documenting in his words his thoughts, his actions and the equipment he used. in my opinion this is a helpful technical book regarding the circumstances surrounding the production of a great artist's works. If you are looking for wonderful Ansel Adams book of photographs exquisitely reproduced, there are much better books that Ansel Adams produced than this one.\"\n",
        "rev_2 = \"This product needs be thrown in the boxing ring to get an ass whopping from all of Joe Rogan's Onnit athletes. \"\n",
        "rev_3 = \"It a good quality fresh man's scent without too much floral nonsense. \"\n",
        "rev_4 = \"Let me tell you, I was super excited for the launch of the new FireTV Stick with its leading edge technology and processing power. Well, it’s got that but there’s a couple bug, game breaking problems I have with this thing.\"\n",
        "rev_5 = \"I love everything about this laptop... EXCEPT THE WEBCAM. I bought this to conduct telehealth sessions and this one thing matters more than anything and it's the one truly horrible thing about it.\"\n",
        "rev_6 = \"It was brilliant. I heartily recommend it! Mainly because it is so very funny. The story of an incompetent detective who gets a weird case (containing a time machine).\"\n",
        "rev_7 = \"I absolutely love this jacket. Reminds me of the one I had in the 70's. Great for cold climate. I bought one size larger to accommodate layering.\"\n",
        "rev_8 = \"I gave it a 1 star cause it makes a loud humming noise which drove me crazy. The adhesion on the strip was not good at all every time i would put it up it would fall down. Would not recommend this.\"\n",
        "rev_9 = \"I was very disappointed to have my uranium confiscated at the airport. It was a gift for my son for his birthday. Also, I'm in prison now, so that's not good either.\"\n",
        "rev_10 = \"Bulb cracked on day 2. Horn takes rapid squeeze to make any sound. The big bulb does not make big sound, it’s no louder than a $7 bicycle horn but does have a train horn pitch. Kind of sad because it’s a hard to believe you get a brass anything for the money.\"\n",
        "\n",
        "\n",
        "review_list = {'reviewText': [rev_1, rev_2, rev_3, rev_4, rev_5, rev_6,\n",
        "                        rev_7, rev_8, rev_9, rev_10]}\n",
        "review_df = pd.DataFrame(data=review_list)                     "
      ],
      "execution_count": 119,
      "outputs": []
    },
    {
      "cell_type": "code",
      "metadata": {
        "id": "k3RUgYlYZCXq",
        "colab": {
          "base_uri": "https://localhost:8080/"
        },
        "outputId": "17f34fa5-072d-4789-84fc-d0f75916d0a9"
      },
      "source": [
        "with tf.device('/device:GPU:0'):  \n",
        "    review_df['cleantext'] = clean_text(review_df)"
      ],
      "execution_count": 120,
      "outputs": [
        {
          "output_type": "stream",
          "text": [
            "100%|██████████| 10/10 [00:00<00:00, 1691.25it/s]\n"
          ],
          "name": "stderr"
        }
      ]
    },
    {
      "cell_type": "code",
      "metadata": {
        "id": "dBzB1-bDZSIN",
        "colab": {
          "base_uri": "https://localhost:8080/",
          "height": 215
        },
        "outputId": "32bd53b8-0d69-47c3-e670-ec935032bfa7"
      },
      "source": [
        "review_df.head()"
      ],
      "execution_count": 121,
      "outputs": [
        {
          "output_type": "execute_result",
          "data": {
            "text/html": [
              "<div>\n",
              "<style scoped>\n",
              "    .dataframe tbody tr th:only-of-type {\n",
              "        vertical-align: middle;\n",
              "    }\n",
              "\n",
              "    .dataframe tbody tr th {\n",
              "        vertical-align: top;\n",
              "    }\n",
              "\n",
              "    .dataframe thead th {\n",
              "        text-align: right;\n",
              "    }\n",
              "</style>\n",
              "<table border=\"1\" class=\"dataframe\">\n",
              "  <thead>\n",
              "    <tr style=\"text-align: right;\">\n",
              "      <th></th>\n",
              "      <th>reviewText</th>\n",
              "      <th>cleantext</th>\n",
              "    </tr>\n",
              "  </thead>\n",
              "  <tbody>\n",
              "    <tr>\n",
              "      <th>0</th>\n",
              "      <td>This book takes one through forty of his photo...</td>\n",
              "      <td>this book takes one through forty of his photo...</td>\n",
              "    </tr>\n",
              "    <tr>\n",
              "      <th>1</th>\n",
              "      <td>This product needs be thrown in the boxing rin...</td>\n",
              "      <td>this product needs be thrown in the boxing rin...</td>\n",
              "    </tr>\n",
              "    <tr>\n",
              "      <th>2</th>\n",
              "      <td>It a good quality fresh man's scent without to...</td>\n",
              "      <td>it a good quality fresh man is scent without t...</td>\n",
              "    </tr>\n",
              "    <tr>\n",
              "      <th>3</th>\n",
              "      <td>Let me tell you, I was super excited for the l...</td>\n",
              "      <td>let me tell you  i was super excited for the l...</td>\n",
              "    </tr>\n",
              "    <tr>\n",
              "      <th>4</th>\n",
              "      <td>I love everything about this laptop... EXCEPT ...</td>\n",
              "      <td>i love everything about this laptop    except ...</td>\n",
              "    </tr>\n",
              "  </tbody>\n",
              "</table>\n",
              "</div>"
            ],
            "text/plain": [
              "                                          reviewText                                          cleantext\n",
              "0  This book takes one through forty of his photo...  this book takes one through forty of his photo...\n",
              "1  This product needs be thrown in the boxing rin...  this product needs be thrown in the boxing rin...\n",
              "2  It a good quality fresh man's scent without to...  it a good quality fresh man is scent without t...\n",
              "3  Let me tell you, I was super excited for the l...  let me tell you  i was super excited for the l...\n",
              "4  I love everything about this laptop... EXCEPT ...  i love everything about this laptop    except ..."
            ]
          },
          "metadata": {
            "tags": []
          },
          "execution_count": 121
        }
      ]
    },
    {
      "cell_type": "code",
      "metadata": {
        "id": "yNE6sF9Kc9fx",
        "colab": {
          "base_uri": "https://localhost:8080/"
        },
        "outputId": "8e043996-f44e-40fe-aad5-b9857a36babc"
      },
      "source": [
        "print(review_df['cleantext'].values)"
      ],
      "execution_count": 122,
      "outputs": [
        {
          "output_type": "stream",
          "text": [
            "['this book takes one through forty of his photographs documenting in his words his thoughts  his actions and the equipment he used  in my opinion this is a helpful technical book regarding the circumstances surrounding the production of a great artist is works  if you are looking for wonderful ansel adams book of photographs exquisitely reproduced  there are much better books that ansel adams produced than this one '\n",
            " 'this product needs be thrown in the boxing ring to get an ass whopping from all of joe rogan is onnit athletes '\n",
            " 'it a good quality fresh man is scent without too much floral nonsense '\n",
            " 'let me tell you  i was super excited for the launch of the new firetv stick with its leading edge technology and processing power  well  it s got that but there s a couple bug  game breaking problems i have with this thing '\n",
            " 'i love everything about this laptop    except the webcam  i bought this to conduct telehealth sessions and this one thing matters more than anything and it is the one truly horrible thing about it '\n",
            " 'it was brilliant  i heartily recommend it  mainly because it is so very funny  the story of an incompetent detective who gets a weird case  containing a time machine  '\n",
            " 'i absolutely love this jacket  reminds me of the one i had in the    is  great for cold climate  i bought one size larger to accommodate layering '\n",
            " 'i gave it a   star cause it makes a loud humming noise which drove me crazy  the adhesion on the strip was not good at all every time i would put it up it would fall down  would not recommend this '\n",
            " 'i was very disappointed to have my uranium confiscated at the airport  it was a gift for my son for his birthday  also  i am in prison now  so that is not good either '\n",
            " 'bulb cracked on day    horn takes rapid squeeze to make any sound  the big bulb does not make big sound  it s no louder than a    bicycle horn but does have a train horn pitch  kind of sad because it s a hard to believe you get a brass anything for the money ']\n"
          ],
          "name": "stdout"
        }
      ]
    },
    {
      "cell_type": "code",
      "metadata": {
        "id": "zuYtfBZrZUOI",
        "colab": {
          "base_uri": "https://localhost:8080/"
        },
        "outputId": "bb05250c-ee72-431d-e810-2d0f1289ec8d"
      },
      "source": [
        "pred_tfidf = ct_vectorizer.transform(review_df['cleantext'].values)\n",
        "print(pred_tfidf)\n",
        "predictions = clf.predict(pred_tfidf)\n",
        "review_df['clf_predictions'] = predictions"
      ],
      "execution_count": 123,
      "outputs": [
        {
          "output_type": "stream",
          "text": [
            "  (0, 1999)\t1\n",
            "  (0, 2241)\t1\n",
            "  (0, 7567)\t1\n",
            "  (0, 8489)\t1\n",
            "  (0, 10331)\t1\n",
            "  (0, 11395)\t1\n",
            "  (0, 19635)\t1\n",
            "  (0, 23066)\t1\n",
            "  (0, 23118)\t1\n",
            "  (0, 34555)\t1\n",
            "  (0, 54769)\t1\n",
            "  (0, 63889)\t1\n",
            "  (0, 67570)\t1\n",
            "  (0, 73818)\t1\n",
            "  (0, 74370)\t1\n",
            "  (0, 83519)\t1\n",
            "  (0, 88343)\t1\n",
            "  (0, 89389)\t1\n",
            "  (0, 90795)\t1\n",
            "  (0, 94636)\t1\n",
            "  (0, 96211)\t1\n",
            "  (0, 101113)\t1\n",
            "  (0, 116131)\t1\n",
            "  (0, 129813)\t1\n",
            "  (0, 131157)\t1\n",
            "  :\t:\n",
            "  (9, 73818)\t1\n",
            "  (9, 79843)\t1\n",
            "  (9, 87169)\t1\n",
            "  (9, 87959)\t1\n",
            "  (9, 92182)\t1\n",
            "  (9, 102113)\t1\n",
            "  (9, 108115)\t1\n",
            "  (9, 116573)\t1\n",
            "  (9, 119025)\t1\n",
            "  (9, 127863)\t1\n",
            "  (9, 134801)\t1\n",
            "  (9, 135709)\t1\n",
            "  (9, 138269)\t1\n",
            "  (9, 139267)\t1\n",
            "  (9, 149011)\t1\n",
            "  (9, 159746)\t1\n",
            "  (9, 171185)\t1\n",
            "  (9, 184973)\t1\n",
            "  (9, 187352)\t1\n",
            "  (9, 195508)\t1\n",
            "  (9, 198390)\t1\n",
            "  (9, 198551)\t1\n",
            "  (9, 201402)\t1\n",
            "  (9, 203262)\t1\n",
            "  (9, 224973)\t1\n"
          ],
          "name": "stdout"
        }
      ]
    },
    {
      "cell_type": "code",
      "metadata": {
        "id": "rRRxPbEtZw1F",
        "colab": {
          "base_uri": "https://localhost:8080/",
          "height": 285
        },
        "outputId": "249a1932-0ff8-47ba-be5b-0af880eb35ea"
      },
      "source": [
        "review_df.head()"
      ],
      "execution_count": 124,
      "outputs": [
        {
          "output_type": "execute_result",
          "data": {
            "text/html": [
              "<div>\n",
              "<style scoped>\n",
              "    .dataframe tbody tr th:only-of-type {\n",
              "        vertical-align: middle;\n",
              "    }\n",
              "\n",
              "    .dataframe tbody tr th {\n",
              "        vertical-align: top;\n",
              "    }\n",
              "\n",
              "    .dataframe thead th {\n",
              "        text-align: right;\n",
              "    }\n",
              "</style>\n",
              "<table border=\"1\" class=\"dataframe\">\n",
              "  <thead>\n",
              "    <tr style=\"text-align: right;\">\n",
              "      <th></th>\n",
              "      <th>reviewText</th>\n",
              "      <th>cleantext</th>\n",
              "      <th>clf_predictions</th>\n",
              "    </tr>\n",
              "  </thead>\n",
              "  <tbody>\n",
              "    <tr>\n",
              "      <th>0</th>\n",
              "      <td>This book takes one through forty of his photo...</td>\n",
              "      <td>this book takes one through forty of his photo...</td>\n",
              "      <td>1</td>\n",
              "    </tr>\n",
              "    <tr>\n",
              "      <th>1</th>\n",
              "      <td>This product needs be thrown in the boxing rin...</td>\n",
              "      <td>this product needs be thrown in the boxing rin...</td>\n",
              "      <td>0</td>\n",
              "    </tr>\n",
              "    <tr>\n",
              "      <th>2</th>\n",
              "      <td>It a good quality fresh man's scent without to...</td>\n",
              "      <td>it a good quality fresh man is scent without t...</td>\n",
              "      <td>1</td>\n",
              "    </tr>\n",
              "    <tr>\n",
              "      <th>3</th>\n",
              "      <td>Let me tell you, I was super excited for the l...</td>\n",
              "      <td>let me tell you  i was super excited for the l...</td>\n",
              "      <td>1</td>\n",
              "    </tr>\n",
              "    <tr>\n",
              "      <th>4</th>\n",
              "      <td>I love everything about this laptop... EXCEPT ...</td>\n",
              "      <td>i love everything about this laptop    except ...</td>\n",
              "      <td>1</td>\n",
              "    </tr>\n",
              "  </tbody>\n",
              "</table>\n",
              "</div>"
            ],
            "text/plain": [
              "                                          reviewText  ... clf_predictions\n",
              "0  This book takes one through forty of his photo...  ...               1\n",
              "1  This product needs be thrown in the boxing rin...  ...               0\n",
              "2  It a good quality fresh man's scent without to...  ...               1\n",
              "3  Let me tell you, I was super excited for the l...  ...               1\n",
              "4  I love everything about this laptop... EXCEPT ...  ...               1\n",
              "\n",
              "[5 rows x 3 columns]"
            ]
          },
          "metadata": {
            "tags": []
          },
          "execution_count": 124
        }
      ]
    },
    {
      "cell_type": "markdown",
      "metadata": {
        "id": "yAB0Yucri0-g"
      },
      "source": [
        "### ROC Curve"
      ]
    },
    {
      "cell_type": "code",
      "metadata": {
        "id": "Q_wH5mgEiVtV"
      },
      "source": [
        "from sklearn.metrics import roc_curve, auc\n",
        "import matplotlib.pyplot as plt\n",
        "\n",
        "fpr, tpr, thresholds = roc_curve(y_true = y_test, y_score = y_pred_prob_test[:,1], pos_label=1)\n",
        "roc_auc = auc(fpr, tpr) # area under ROC curve"
      ],
      "execution_count": 125,
      "outputs": []
    },
    {
      "cell_type": "code",
      "metadata": {
        "id": "X5T0I8ARi_jh",
        "colab": {
          "base_uri": "https://localhost:8080/",
          "height": 295
        },
        "outputId": "f26c8872-f069-40af-82b2-9fb6c5dafc5d"
      },
      "source": [
        "plt.figure()\n",
        "lw = 2\n",
        "plt.plot(fpr, tpr, color='darkorange', lw=lw, label='ROC curve (area = %0.2f)' % roc_auc)\n",
        "plt.plot([0, 1], [0, 1], color='navy', lw=lw, linestyle='--')\n",
        "plt.xlim([0.0, 1.0])\n",
        "plt.ylim([0.0, 1.05])\n",
        "plt.xlabel('False Positive Rate')\n",
        "plt.ylabel('True Positive Rate')\n",
        "plt.title('ROC (Receiver operating characteristic) curve')\n",
        "plt.legend(loc=\"lower right\")\n",
        "plt.show()"
      ],
      "execution_count": 126,
      "outputs": [
        {
          "output_type": "display_data",
          "data": {
            "image/png": "[encoded data removed]",
            "text/plain": [
              "<Figure size 432x288 with 1 Axes>"
            ]
          },
          "metadata": {
            "tags": [],
            "needs_background": "light"
          }
        }
      ]
    },
    {
      "cell_type": "markdown",
      "metadata": {
        "id": "K69IP0iajIO8"
      },
      "source": [
        "### Precision-Recall Curve"
      ]
    },
    {
      "cell_type": "code",
      "metadata": {
        "id": "y-n6YdeRjBCZ"
      },
      "source": [
        "\n",
        "from sklearn.metrics import precision_recall_curve\n",
        "precision, recall, thresholds = precision_recall_curve(y_true=y_test, probas_pred=y_pred_prob_test[:,1], pos_label=1)"
      ],
      "execution_count": 127,
      "outputs": []
    },
    {
      "cell_type": "code",
      "metadata": {
        "id": "344t9fPVjYMx",
        "colab": {
          "base_uri": "https://localhost:8080/"
        },
        "outputId": "e2423d70-eea0-4b03-f883-b1f4ca232b19"
      },
      "source": [
        "print(precision)"
      ],
      "execution_count": 128,
      "outputs": [
        {
          "output_type": "stream",
          "text": [
            "[0.50168473 0.50168331 0.50168474 ... 1.         1.         1.        ]\n"
          ],
          "name": "stdout"
        }
      ]
    },
    {
      "cell_type": "code",
      "metadata": {
        "id": "N0v2hZXYjcvv",
        "colab": {
          "base_uri": "https://localhost:8080/"
        },
        "outputId": "8a939036-0b6e-4ded-d429-ef021c05001f"
      },
      "source": [
        "print(recall)"
      ],
      "execution_count": 129,
      "outputs": [
        {
          "output_type": "stream",
          "text": [
            "[1.00000000e+00 9.99994337e-01 9.99994337e-01 ... 4.41711121e-04\n",
            " 3.45440748e-04 0.00000000e+00]\n"
          ],
          "name": "stdout"
        }
      ]
    },
    {
      "cell_type": "code",
      "metadata": {
        "id": "s09phXzUjeEp",
        "colab": {
          "base_uri": "https://localhost:8080/"
        },
        "outputId": "3bb82f70-8ce3-49b3-ed93-4af2c0daaa88"
      },
      "source": [
        "print(thresholds)"
      ],
      "execution_count": 130,
      "outputs": [
        {
          "output_type": "stream",
          "text": [
            "[1.17080124e-14 1.20433848e-14 1.28725561e-14 ... 1.00000000e+00\n",
            " 1.00000000e+00 1.00000000e+00]\n"
          ],
          "name": "stdout"
        }
      ]
    },
    {
      "cell_type": "code",
      "metadata": {
        "id": "KpMh8xS4jgJL",
        "colab": {
          "base_uri": "https://localhost:8080/",
          "height": 295
        },
        "outputId": "837a482b-fb97-485c-b9c1-78f1a7a72b54"
      },
      "source": [
        "\n",
        "from sklearn.metrics import average_precision_score\n",
        "\n",
        "plt.plot(recall, precision, color='darkorange', lw=lw, label='Average precision recall score: %0.2f' % average_precision_score(y_test, y_pred_prob_test[:,1]))\n",
        "\n",
        "plt.title('Precision recall curve')\n",
        "plt.xlabel('Recall')\n",
        "plt.ylabel('Precision')\n",
        "plt.legend()\n",
        "plt.show()"
      ],
      "execution_count": 131,
      "outputs": [
        {
          "output_type": "display_data",
          "data": {
            "image/png": "[encoded data removed]",
            "text/plain": [
              "<Figure size 432x288 with 1 Axes>"
            ]
          },
          "metadata": {
            "tags": [],
            "needs_background": "light"
          }
        }
      ]
    },
    {
      "cell_type": "code",
      "metadata": {
        "id": "Wt079Kpjjhu8",
        "colab": {
          "base_uri": "https://localhost:8080/"
        },
        "outputId": "2a2baad7-a460-4885-dda5-10a5f0e83e8d"
      },
      "source": [
        "df_test = read_review.iloc[352296]\n",
        "df_test.loc['pred_label'] = y_pred_test\n",
        "pd.options.mode.chained_assignment = None\n",
        "df_test.head(3)"
      ],
      "execution_count": 132,
      "outputs": [
        {
          "output_type": "execute_result",
          "data": {
            "text/plain": [
              "index                                                    377001\n",
              "overall                                                       1\n",
              "reviewText    I was expecting to receive a full set of strin...\n",
              "Name: 377001, dtype: object"
            ]
          },
          "metadata": {
            "tags": []
          },
          "execution_count": 132
        }
      ]
    },
    {
      "cell_type": "code",
      "metadata": {
        "id": "2Z8ji2RQkgT2",
        "colab": {
          "base_uri": "https://localhost:8080/"
        },
        "outputId": "4ff8be4b-8557-4a13-eaf4-8079aea6696c"
      },
      "source": [
        "feature_to_coef = {word: float(\"%.3f\" % coef) for word, coef in zip(ct_vectorizer.get_feature_names(), clf.coef_[0])}\n",
        "\n",
        "print(\"Top positive features:\")\n",
        "sorted(feature_to_coef.items(), key=lambda x: x[1], reverse=True)[:10]\n",
        "\n",
        "# words like \"refreshing, hooked, superb\" are reliable evidence of indicating positive sentiments"
      ],
      "execution_count": 133,
      "outputs": [
        {
          "output_type": "stream",
          "text": [
            "Top positive features:\n"
          ],
          "name": "stdout"
        },
        {
          "output_type": "execute_result",
          "data": {
            "text/plain": [
              "[('amaz', 3.429),\n",
              " ('excelent', 3.288),\n",
              " ('awesom', 3.205),\n",
              " ('brainier', 3.059),\n",
              " ('beauti', 2.998),\n",
              " ('excelente', 2.951),\n",
              " ('nitpick', 2.948),\n",
              " ('pleasantly', 2.917),\n",
              " ('excel', 2.916),\n",
              " ('regrets', 2.776)]"
            ]
          },
          "metadata": {
            "tags": []
          },
          "execution_count": 133
        }
      ]
    },
    {
      "cell_type": "code",
      "metadata": {
        "id": "a81fzrAol0ga",
        "colab": {
          "base_uri": "https://localhost:8080/"
        },
        "outputId": "bf9dff42-271e-4495-d6f8-ec1966e98872"
      },
      "source": [
        "# most of the words are reliable evidence of indicating negative sentiments\n",
        "print(\"Top negative features:\")\n",
        "sorted(feature_to_coef.items(), key=lambda x: x[1], reverse=False)[:10]"
      ],
      "execution_count": 134,
      "outputs": [
        {
          "output_type": "stream",
          "text": [
            "Top negative features:\n"
          ],
          "name": "stdout"
        },
        {
          "output_type": "execute_result",
          "data": {
            "text/plain": [
              "[('somethjng', -3.993),\n",
              " ('garbag', -3.936),\n",
              " ('terribl', -3.758),\n",
              " ('ntokc', -3.705),\n",
              " ('horribl', -3.67),\n",
              " ('terr', -3.347),\n",
              " ('amateurish', -3.343),\n",
              " ('brok', -3.301),\n",
              " ('worst', -3.181),\n",
              " ('horr', -3.094)]"
            ]
          },
          "metadata": {
            "tags": []
          },
          "execution_count": 134
        }
      ]
    },
    {
      "cell_type": "markdown",
      "metadata": {
        "id": "ieBrZSoFPtl4"
      },
      "source": [
        "To conclude, with the model's accuracy at about 91%, it was able to discriminate the positive and negative sentiments. For example: From my findings using out of domain prediction, the model was able to predict and recognize sentences that were more positive(1) and some that were negative(0)."
      ]
    },
    {
      "cell_type": "code",
      "metadata": {
        "id": "f6lg9GmGkgHo"
      },
      "source": [
        "from sklearn.model_selection import GridSearchCV\n",
        "from sklearn.pipeline import Pipeline\n",
        "\n",
        "\n",
        "with tf.device('/device:GPU:0'): \n",
        "    vectorizer = CountVectorizer()\n",
        "    logistic = LogisticRegression(max_iter=10000) # , tol=0.1\n",
        "\n",
        "    # build a pipeline\n",
        "    pipe = Pipeline(steps = [\n",
        "        ('vectorizer', vectorizer),\n",
        "        ('classifier', logistic)])\n",
        "\n",
        "    # creat a dictionary of model parameters and corresponding values\n",
        "    # For example, in countvectorizer, we want to explore the suitable value for min_df, select from 1,3,5,10\n",
        "    param_grid = {\n",
        "        'vectorizer__min_df': [1, 3, 5],\n",
        "        'vectorizer__max_df': [0.7, 0.8, 0.9]}\n",
        "\n",
        "    # run GridSearchCV, cv, f1\n",
        "    search_result = GridSearchCV(pipe, param_grid, cv=5, scoring='f1').fit(X, y)\n",
        "    print(search_result)\n",
        "\n",
        "\n",
        "    print(\"Best parameter (CV score=%0.3f):\" % search_result.best_score_) # scoring: accuracy by default\n",
        "    print(search_result.best_params_)\n",
        "    # with 5 fold cv, the best f1 score is 0.887, and the corresponding parameter values are as follows:"
      ],
      "execution_count": null,
      "outputs": []
    },
    {
      "cell_type": "code",
      "metadata": {
        "id": "gB4ZMkL_9L4n"
      },
      "source": [
        "\n"
      ],
      "execution_count": null,
      "outputs": []
    }
  ]
}